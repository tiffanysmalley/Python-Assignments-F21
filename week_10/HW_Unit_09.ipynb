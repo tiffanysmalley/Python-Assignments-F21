{
 "cells": [
  {
   "cell_type": "markdown",
   "metadata": {
    "deletable": false,
    "editable": false,
    "nbgrader": {
     "cell_type": "markdown",
     "checksum": "c256a997490a91f0708490a794d55a2b",
     "grade": false,
     "grade_id": "cell-76038a88b4d3af8c",
     "locked": true,
     "schema_version": 3,
     "solution": false
    }
   },
   "source": [
    "## Unit 9 Assignment - W200 Introduction to Data Science Programming, UC Berkeley MIDS\n",
    "\n",
    "Write code in this Jupyter Notebook to solve the following problems. Please upload this **Notebook** with your solutions to your GitHub repository in your SUBMISSIONS/week_10 folder by 11:59PM PST the night before class.  Do not upload the data files or the answer .csv (we want your notebook to make the answers when we run it)"
   ]
  },
  {
   "cell_type": "markdown",
   "metadata": {
    "deletable": false,
    "editable": false,
    "nbgrader": {
     "cell_type": "markdown",
     "checksum": "c23f7fc9d9970d3da7cc114e7d58d8de",
     "grade": false,
     "grade_id": "cell-ae5d30c3c3f47580",
     "locked": true,
     "schema_version": 3,
     "solution": false
    }
   },
   "source": [
    "This homework assignment is assigned during Week 10 but corresponds to the Unit #9 async."
   ]
  },
  {
   "cell_type": "markdown",
   "metadata": {
    "deletable": false,
    "editable": false,
    "nbgrader": {
     "cell_type": "markdown",
     "checksum": "6b52c4ac0395c1e0a459473b439e2153",
     "grade": false,
     "grade_id": "cell-5977c1d8f1d55d67",
     "locked": true,
     "schema_version": 3,
     "solution": false
    }
   },
   "source": [
    "## Objectives\n",
    "\n",
    "- Demonstrate how to import different data files\n",
    "- Get a small glimpse on how messy data can be\n",
    "- Design and implement an algorithm to standardize the information and fix the messiness\n",
    "- Work with Python data structures to sort and output the correct information\n",
    "- Demonstrate how to export required information to a .csv file"
   ]
  },
  {
   "cell_type": "markdown",
   "metadata": {
    "deletable": false,
    "editable": false,
    "nbgrader": {
     "cell_type": "markdown",
     "checksum": "2c14663ff2d7819ac8f8abe12c58dd5e",
     "grade": false,
     "grade_id": "cell-f3df226b1112e4f1",
     "locked": true,
     "schema_version": 3,
     "solution": false
    }
   },
   "source": [
    "## Reading and Writing Data (25 Points)\n",
    "\n",
    "In this assignment, you will be reading and writing data. Yes, finally some data science (or at least some exploratory data analysis)! In the week_10 assignment folder, there are three data files named: \n",
    "\n",
    "* data.csv\n",
    "* data.json\n",
    "* data.pkl\n",
    "\n",
    "These are three common file formats. You can run the following **on the bash command line** to see what is in each file (this will not work from a Windows prompt but will work in git bash):\n",
    "\n",
    "```sh\n",
    "head data.csv\n",
    "head data.pkl\n",
    "head data.json\n",
    "```\n",
    "\n",
    "You'll see that there is some method to the madness but that each file format has its peculiarities. Each file contains a portion of the total dataset that altogether comprises 100 records, so you need to **read in all of the files and combine them into some standard format** with which you are comfortable. Aim for something standard where each \"row\" is represented in the same format. **Name this object that contains the data for all three files combined ```full_data```**\n",
    "\n",
    "### Questions to answer (75 points: each question is worth 15 points):\n",
    "After you've standardized all of the data, report the following information: \n",
    "\n",
    "1. What are the unique countries in the dataset, sorted alphabetically?  Write to a new file called question_1.csv.\n",
    "2. What are the unique complete email domains in the dataset, sorted alphabetically?  Write to a new file called question_2.csv. \n",
    "3. What are the first names of everyone (including duplicates) that do not have a P.O. Box address, sorted alphabetically?  Write to a new file called question_3.csv.\n",
    "4. What are the full names of the first 5 people when you sort the data alphabetically by country?  Write to a new file called question_4.csv.\n",
    "5. What are the full names of the first 5 people when you sort the data numerically ascending by phone number?  Write to a new file called question_5.csv.\n",
    "\n",
    "We will be using a script to examine and grade your .csv files so please make sure: \n",
    "- The answers are all in one **column** with one list item per cell, sorted as stated in the question. I.e., looking at the .csv in a spreadsheet editor like Google Sheets, all answers would be in the 'A' column, with the first entry in A1, the second in A2, etc.\n",
    "- Please do not include a header; just the answers to the questions.\n",
    "- It is strongly recommended that you open each .csv file to ensure the answers are there and displayed correctly! \n",
    "- Don't include quotes around the list items.  I.e., strip the leading and trailing quotes, if necessary, from items when you write to the .csv files.  For example, a list entry should look like ```Spain``` rather than ```\"Spain\"```. One exception: Some country names do contain commas and it is ok to have quotes: ```\"\"``` around just those country names so that they will be in one cell in the .csv. \n",
    "\n",
    "\n",
    "In addition, show all of your work in this **Jupyter notebook**."
   ]
  },
  {
   "cell_type": "markdown",
   "metadata": {
    "deletable": false,
    "editable": false,
    "nbgrader": {
     "cell_type": "markdown",
     "checksum": "635f227045350bca94591906e3873ad2",
     "grade": false,
     "grade_id": "cell-ad4b864c26503a51",
     "locked": true,
     "schema_version": 3,
     "solution": false
    }
   },
   "source": [
    "### Assumptions\n",
    "\n",
    "- You might have to make decisions about the data. For example, what to do with ties or how to sort the phone numbers numerically. \n",
    "- Write your assumptions in this Jupyter notebook at the top of your code under the heading below that says ASSUMPTIONS\n",
    "- Please do some research before making an assumption (e.g. what is a domain name?); put your notes inside that assumption so we can understand your thought process. \n",
    "  - NOTE: If you don't know what an email domain is - do some research and write what you found in your assumptions; there is a correct answer to this question! \n",
    "- This is a good habit to do as you analyze data so that you can remember why you made the decisions you did and other people can follow your analysis later!"
   ]
  },
  {
   "cell_type": "markdown",
   "metadata": {
    "deletable": false,
    "editable": false,
    "nbgrader": {
     "cell_type": "markdown",
     "checksum": "57450666cda1cb410247d946aa6801fe",
     "grade": false,
     "grade_id": "cell-ac3d57f37fc71750",
     "locked": true,
     "schema_version": 3,
     "solution": false
    }
   },
   "source": [
    "### Restrictions\n",
    "You should use these standard library imports:\n",
    "\n",
    "```python\n",
    "import json\n",
    "import csv\n",
    "import pickle\n",
    "```\n",
    "\n",
    "Some of you may be familiar with a Python package called `pandas` which would greatly speed up this sort of file processing.  The point of this homework is to do the work manually.  You can use `pandas` to independently check your work if you are so inclined but do not use `pandas` as the sole solution method. Don't worry if you are not familiar with `pandas`.  We will do this homework as a class exercise using `pandas` in the near future."
   ]
  },
  {
   "cell_type": "markdown",
   "metadata": {
    "deletable": false,
    "editable": false,
    "nbgrader": {
     "cell_type": "markdown",
     "checksum": "86514456a34f356155016417a7d3a6e8",
     "grade": false,
     "grade_id": "cell-f8df9d752522f9cd",
     "locked": true,
     "schema_version": 3,
     "solution": false
    }
   },
   "source": [
    "### Hints (optional)\n",
    "\n",
    "- You may use regular expressions if you wish to extract data from each row. You do not need to use them if you do not want to or see a need to. The Python regular expression module is called `re`.\n",
    "- You may want to use the operator library or the sorted function to help in sorting.\n",
    "- There are many data structures and formats that you might use to solve this problem.  You will have to decide if you want to keep the information for each person together as one record or all the information for each of the fields together.\n",
    "- You can put these files into sensible structures such as lists or or dictionaries. The async covers how to do this for csv and json. For pickle this might help https://wiki.python.org/moin/UsingPickle \n",
    "- .items() or .key() can be useful for dictionaries\n",
    "- Once again, it is strongly recommended that you open each .csv file to ensure the answers are there and displayed correctly! "
   ]
  },
  {
   "cell_type": "code",
   "execution_count": 237,
   "metadata": {
    "deletable": false,
    "nbgrader": {
     "cell_type": "code",
     "checksum": "97005fc8cbd95ef4164db798e727a63f",
     "grade": true,
     "grade_id": "cell-360398972d1182f1",
     "locked": false,
     "points": 0,
     "schema_version": 3,
     "solution": true
    }
   },
   "outputs": [],
   "source": [
    "# Tiffany Smalley\n",
    "\n",
    "### ASSUMPTIONS:\n",
    "# Please write the assumptions here that you made during your data analysis\n",
    "# Please keep this code at the very top of your code block so we can easily see it while grading!\n",
    "\"\"\"\n",
    "- Every number and name provided was unique/a unique contact (even those with the same names could be different people)\n",
    "- Names either have First Name-Last Name format or First Name-Middle Initial-Last Name format \n",
    "- Every entry has a number key already associated\n",
    "- A domain name is everything included after the @ sign in an email. Per this source, the domain name can have multiple parts: \n",
    "https://developer.mozilla.org/en-US/docs/Learn/Common_questions/What_is_a_domain_name\n",
    "My assumption is thus that (for example) consequat.co.uk is a unique domain name from consequat.com\n",
    "-Phone sort includes first three digits, regardless of whether it is a 7 or 10 digit phone number\n",
    "\"\"\"\n",
    "\n",
    "import csv\n",
    "import re\n",
    "import json\n",
    "import pickle\n",
    "\n",
    "#establish dictionaries\n",
    "name = {}\n",
    "phone = {}\n",
    "address = {}\n",
    "city = {}\n",
    "country = {}\n",
    "email = {}\n",
    "\n",
    "\"\"\"---- Formatting functions - for implementing any field formatting----\"\"\"\n",
    "def formatName(nameIn):\n",
    "    return nameIn\n",
    "\n",
    "def formatNum(numIn): \n",
    "    if numIn[0:2] == \"1-\":\n",
    "        return(numIn[2:])\n",
    "    else:\n",
    "        return numIn\n",
    "\n",
    "def formatAddress(addyIn):\n",
    "    return addyIn\n",
    "\n",
    "def formatCity(cityIn):\n",
    "    return cityIn\n",
    "\n",
    "def formatCountry(ctryIn):\n",
    "    return ctryIn\n",
    "\n",
    "def formatEmail(emailIn):\n",
    "    emailIn = emailIn.lower()\n",
    "    return emailIn\n",
    "\n",
    "\n",
    "def addEntry(keyIn, nameIn, phoneIn, addressIn, cityIn, countryIn, emailIn):\n",
    "    \"\"\"For adding in entries that aren't already in dictionary format (for example, from CSV files.)\n",
    "    parameters: desired key, name, phone, address, city, country, and email\"\"\"\n",
    "    name[keyIn] = formatName(nameIn)\n",
    "    phone[keyIn] = formatNum(phoneIn)\n",
    "    address[keyIn] = formatAddress(addressIn)\n",
    "    city[keyIn] = formatCity(cityIn)\n",
    "    country[keyIn] = formatCountry(countryIn)\n",
    "    email[keyIn] = formatEmail(emailIn)\n",
    "    \n",
    "def writeOut(filename, contents):\n",
    "    \"\"\"Function to write to file\n",
    "    parameters: desired filename and contents\"\"\"\n",
    "    qWrite = open(filename,'wt')\n",
    "    csvout = csv.writer(qWrite)\n",
    "    csvout.writerows(contents)\n",
    "    qWrite.close()    \n",
    "    \n",
    "#------Main--------#\n",
    "\n",
    "\n",
    "\"\"\"-----------------------Read in all the files to combine into full_data-----------------------\"\"\"\n",
    "\n",
    "#CSV Feed~~~~\n",
    "\n",
    "#Open CSV file and read in\n",
    "csv_read = open('data.csv', 'rt')\n",
    "csvin = csv.reader(csv_read)\n",
    "\n",
    "#for each \"row\" call add entry with each element as an argument\n",
    "for row in csvin:\n",
    "    if row[0] == \"\":\n",
    "        continue\n",
    "    else:\n",
    "        addEntry(row[0], row[1], row[2], row[3], row[4], row[5], row[6])\n",
    "#close out file\n",
    "csv_read.close()\n",
    "\n",
    "\n",
    "#JSON Feed~~~~\n",
    "#load in json\n",
    "json_read_file = open('data.json', 'rt')\n",
    "json_read = json.loads(json_read_file.read())\n",
    "json_read_file.close()\n",
    "\n",
    "#for each key in the json_file (don't want to assume they all have keys)\n",
    "#update it in the dictionary\n",
    "for key in json_read[\"Name\"]:\n",
    "    json_read[\"Name\"].update({key:formatName(json_read[\"Name\"][key])})\n",
    "    json_read[\"Phone\"].update({key:formatNum(json_read[\"Phone\"][key])})\n",
    "    json_read[\"Address\"].update({key:formatAddress(json_read[\"Address\"][key])})\n",
    "    json_read[\"City\"].update({key:formatCity(json_read[\"City\"][key])})\n",
    "    json_read[\"Country\"].update({key:formatCountry(json_read[\"Country\"][key])})\n",
    "    json_read[\"Email\"].update({key:formatEmail(json_read[\"Email\"][key])})\n",
    "\n",
    "#then load the formated dictionaries to the master dicts\n",
    "name.update(json_read[\"Name\"])\n",
    "phone.update(json_read[\"Phone\"])\n",
    "address.update(json_read[\"Address\"])\n",
    "city.update(json_read[\"City\"])\n",
    "country.update(json_read[\"Country\"])\n",
    "email.update(json_read[\"Email\"])\n",
    "\n",
    "#PKL Feed~~~~\n",
    "pkl_read = []\n",
    "#read in the pkl file\n",
    "with (open(\"data.pkl\", \"rb\")) as fileOpen:\n",
    "    while True: \n",
    "        try:\n",
    "            pkl_read.append(pickle.load(fileOpen))\n",
    "        except EOFError:\n",
    "            break\n",
    "\n",
    "#remove from one large list\n",
    "pkl_read=pkl_read[0]\n",
    "\n",
    "#for each element in the pickle file, apply formatting \n",
    "for key in pkl_read[\"Name\"]:\n",
    "    pkl_read[\"Name\"].update({key:formatName(pkl_read[\"Name\"][key])})\n",
    "    pkl_read[\"Phone\"].update({key:formatNum(pkl_read[\"Phone\"][key])})\n",
    "    pkl_read[\"Address\"].update({key:formatAddress(pkl_read[\"Address\"][key])})\n",
    "    pkl_read[\"City\"].update({key:formatCity(pkl_read[\"City\"][key])})\n",
    "    pkl_read[\"Country\"].update({key:formatCountry(pkl_read[\"Country\"][key])})\n",
    "    pkl_read[\"Email\"].update({key:formatEmail(pkl_read[\"Email\"][key])})            \n",
    "\n",
    "#then load the formated dictionaries to master dicts\n",
    "name.update(pkl_read[\"Name\"])\n",
    "phone.update(pkl_read[\"Phone\"])\n",
    "address.update(pkl_read[\"Address\"])\n",
    "city.update(pkl_read[\"City\"])\n",
    "country.update(pkl_read[\"Country\"])\n",
    "email.update(pkl_read[\"Email\"])\n",
    "\n",
    "#compile all the data together into full_data\n",
    "full_data=[name, phone, address, city, country, email]\n",
    "\n",
    "\"\"\"-----------------------Sort According to Instructions and Write Out To Files-----------------------\"\"\"\n",
    "\n",
    "#What are the unique countries in the dataset, sorted alphabetically? Write to a new file called question_1.csv.\n",
    "uniqueList=[]\n",
    "for c in country:\n",
    "    if country[c] not in uniqueList:\n",
    "        uniqueList.append([country[c]])\n",
    "uniqueList.sort()\n",
    "\n",
    "writeOut('question1.csv', uniqueList)\n",
    "\n",
    "# What are the unique complete email domains in the dataset, sorted alphabetically? Write to a new file called question_2.csv.\n",
    "uniqueDomains=[]\n",
    "for e in email:\n",
    "    domain = email[e].split('@')[1]\n",
    "    if domain not in uniqueDomains:\n",
    "        uniqueDomains.append([domain])\n",
    "uniqueDomains.sort()\n",
    "\n",
    "writeOut('question2.csv', uniqueDomains)   \n",
    "\n",
    "#What are the first names of everyone (including duplicates) that do not have a P.O. Box address, sorted alphabetically? Write to a new file called question_3.csv.\n",
    "fNames = []\n",
    "for f in name:\n",
    "    if \"p.o. box\" in address[f].lower():\n",
    "        nameIn = name[f].split()\n",
    "        fNames.append([nameIn[0]])\n",
    "fNames.sort()\n",
    "\n",
    "writeOut('question3.csv', fNames)   \n",
    "\n",
    "#What are the full names of the first 5 people when you sort the data alphabetically by country? Write to a new file called question_4.csv.\n",
    "people = []\n",
    "\n",
    "cSort = sorted(country.items(), key=lambda x: x[1])\n",
    "\n",
    "c5=[]\n",
    "x = 0\n",
    "for c in cSort:\n",
    "    c5.append(c)\n",
    "    if x > 3:\n",
    "        break\n",
    "    x+=1\n",
    "    \n",
    "for k in c5:\n",
    "    people.append([name[k[0]]])\n",
    "\n",
    "writeOut('question4.csv', people)\n",
    "\n",
    "#What are the full names of the first 5 people when you sort the data numerically ascending by phone number? Write to a new file called question_5.csv.\n",
    "people = []\n",
    "\n",
    "pSort = sorted(phone.items(), key=lambda x: x[1])\n",
    "\n",
    "p5=[]\n",
    "x = 0\n",
    "for p in pSort:\n",
    "    p5.append(p)\n",
    "    if x > 3:\n",
    "        break\n",
    "    x+=1\n",
    "    \n",
    "for k in p5:\n",
    "    people.append([name[k[0]]])\n",
    "\n",
    "writeOut('question5.csv', people)    \n",
    "\n",
    "#raise NotImplementedError()"
   ]
  },
  {
   "cell_type": "code",
   "execution_count": 223,
   "metadata": {
    "deletable": false,
    "editable": false,
    "nbgrader": {
     "cell_type": "code",
     "checksum": "b72924766f14c62e1e59d2a7fa58fac9",
     "grade": true,
     "grade_id": "cell-74508624757f05eb",
     "locked": true,
     "points": 15,
     "schema_version": 3,
     "solution": false
    }
   },
   "outputs": [],
   "source": [
    "# Autograde cell - do not erase/delete"
   ]
  },
  {
   "cell_type": "code",
   "execution_count": 224,
   "metadata": {
    "deletable": false,
    "editable": false,
    "nbgrader": {
     "cell_type": "code",
     "checksum": "61094a28e1c8a229ddc972e1decaaa7c",
     "grade": true,
     "grade_id": "cell-3279313500065f9f",
     "locked": true,
     "points": 10,
     "schema_version": 3,
     "solution": false
    }
   },
   "outputs": [],
   "source": [
    "# Autograde cell - do not erase/delete"
   ]
  },
  {
   "cell_type": "code",
   "execution_count": 225,
   "metadata": {
    "deletable": false,
    "editable": false,
    "nbgrader": {
     "cell_type": "code",
     "checksum": "a9c88cdddbf58183e90a3778ad1fe5b4",
     "grade": true,
     "grade_id": "cell-3e8cd92ecc8d286f",
     "locked": true,
     "points": 15,
     "schema_version": 3,
     "solution": false
    }
   },
   "outputs": [],
   "source": [
    "# Autograde cell - do not erase/delete"
   ]
  },
  {
   "cell_type": "code",
   "execution_count": 226,
   "metadata": {
    "deletable": false,
    "editable": false,
    "nbgrader": {
     "cell_type": "code",
     "checksum": "d6ead2aaf9e4412073744c9e8e307a9b",
     "grade": true,
     "grade_id": "cell-4c4abfb9df4037df",
     "locked": true,
     "points": 15,
     "schema_version": 3,
     "solution": false
    }
   },
   "outputs": [],
   "source": [
    "# Autograde cell - do not erase/delete"
   ]
  },
  {
   "cell_type": "code",
   "execution_count": 227,
   "metadata": {
    "deletable": false,
    "editable": false,
    "nbgrader": {
     "cell_type": "code",
     "checksum": "e2db3c9236bccf54a1aca338f9a4607d",
     "grade": true,
     "grade_id": "cell-43e8a4cadc4f7f39",
     "locked": true,
     "points": 15,
     "schema_version": 3,
     "solution": false
    }
   },
   "outputs": [],
   "source": [
    "# Autograde cell - do not erase/delete"
   ]
  },
  {
   "cell_type": "code",
   "execution_count": 228,
   "metadata": {
    "deletable": false,
    "editable": false,
    "nbgrader": {
     "cell_type": "code",
     "checksum": "cd709de9cced0764ed39edc63e0da0b9",
     "grade": true,
     "grade_id": "cell-e5bf902a45a8dd69",
     "locked": true,
     "points": 15,
     "schema_version": 3,
     "solution": false
    }
   },
   "outputs": [],
   "source": [
    "# Autograde cell - do not erase/delete"
   ]
  },
  {
   "cell_type": "code",
   "execution_count": 229,
   "metadata": {
    "deletable": false,
    "editable": false,
    "nbgrader": {
     "cell_type": "code",
     "checksum": "b59a38d2f8056f5b6a3492a5e4525ea7",
     "grade": true,
     "grade_id": "cell-2f15bb137bfe5b16",
     "locked": true,
     "points": 15,
     "schema_version": 3,
     "solution": false
    }
   },
   "outputs": [],
   "source": [
    "# Autograde cell - do not erase/delete"
   ]
  }
 ],
 "metadata": {
  "anaconda-cloud": {},
  "kernelspec": {
   "display_name": "Python 3",
   "language": "python",
   "name": "python3"
  },
  "language_info": {
   "codemirror_mode": {
    "name": "ipython",
    "version": 3
   },
   "file_extension": ".py",
   "mimetype": "text/x-python",
   "name": "python",
   "nbconvert_exporter": "python",
   "pygments_lexer": "ipython3",
   "version": "3.8.8"
  }
 },
 "nbformat": 4,
 "nbformat_minor": 1
}
