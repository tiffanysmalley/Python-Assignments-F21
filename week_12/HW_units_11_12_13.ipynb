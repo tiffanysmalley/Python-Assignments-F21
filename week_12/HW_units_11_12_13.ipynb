{
 "cells": [
  {
   "cell_type": "markdown",
   "metadata": {},
   "source": [
    "## Week 12 Assignment - W200 Introduction to Data Science Programming, UC Berkeley MIDS\n",
    "\n",
    "Write code in this Jupyter Notebook to solve the following problems. This assignment addresses material covered in Unit 11. Please upload this **Notebook** with your solutions to your GitHub repository in your SUBMISSIONS/week_12 folder by 11:59PM PST the night before class. Do **NOT** push/upload the data file. If you turn-in anything on ISVC please do so under the Week 12 Assignment category. "
   ]
  },
  {
   "cell_type": "markdown",
   "metadata": {},
   "source": [
    "## Objectives\n",
    "\n",
    "- Explore and glean insights from a real dataset using pandas\n",
    "- Practice using pandas for exploratory analysis, information gathering, and discovery\n",
    "- Practice using matplotlib for data visualization"
   ]
  },
  {
   "cell_type": "markdown",
   "metadata": {},
   "source": [
    "## Dataset\n",
    "\n",
    "You are to analyze campaign contributions to the 2016 U.S. presidential primary races made in California. Use the csv file located here: https://drive.google.com/file/d/1Lgg-PwXQ6TQLDowd6XyBxZw5g1NGWPjB/view?usp=sharing. You should download and save this file in the same folder as this notebook is stored.  This file originally came from the U.S. Federal Election Commission (https://www.fec.gov/).\n",
    "\n",
    "**DO NOT PUSH THIS FILE TO YOUR GITHUB REPO!**\n",
    "\n",
    "- Best practice is to not have DATA files in your code repo. As shown below, the default load is outside of the folder this notebook is in. If you change the folder where the file is stored please update the first cell!\n",
    "- If you do accidentally push the file to your github repo - follow the directions here to fix it: https://docs.google.com/document/d/15Irgb5V5G7pKPWgAerH7FPMpKeQRunbNflaW-hR2hTA/edit?usp=sharing\n",
    "\n",
    "Documentation for this data can be found here: https://drive.google.com/file/d/11o_SByceenv0NgNMstM-dxC1jL7I9fHL/view?usp=sharing"
   ]
  },
  {
   "cell_type": "markdown",
   "metadata": {},
   "source": [
    "## General Guidelines:\n",
    "\n",
    "- This is a **real** dataset and so it may contain errors and other pecularities to work through\n",
    "- This dataset is ~218mb, which will take some time to load (and probably won't load in Google Sheets or Excel)\n",
    "- If you make assumptions, annotate them in your responses\n",
    "- While there is one code/markdown cell positioned after each question as a placeholder, some of your code/responses may require multiple cells\n",
    "- Double-click the markdown cells that say YOUR ANSWER HERE to enter your written answers. If you need more cells for your written answers, make them markdown cells (rather than code cells)"
   ]
  },
  {
   "cell_type": "markdown",
   "metadata": {},
   "source": [
    "## Setup\n",
    "\n",
    "Run the two cells below. \n",
    "\n",
    "The first cell will load the data into a pandas dataframe named `contrib`. Note that a custom date parser is defined to speed up loading. If Python were to guess the date format, it would take even longer to load.  \n",
    "\n",
    "The second cell subsets the dataframe to focus on just the primary period through May 2016. Otherwise, we would see general election donations which would make it harder to draw conclusions about the primaries."
   ]
  },
  {
   "cell_type": "code",
   "execution_count": 429,
   "metadata": {},
   "outputs": [
    {
     "name": "stderr",
     "output_type": "stream",
     "text": [
      "/Users/tiffany/opt/anaconda3/lib/python3.8/site-packages/IPython/core/interactiveshell.py:3165: DtypeWarning: Columns (6,11,12) have mixed types.Specify dtype option on import or set low_memory=False.\n",
      "  has_raised = await self.run_ast_nodes(code_ast.body, cell_name,\n",
      "<ipython-input-429-44fe46b618d3>:11: FutureWarning: The pandas.datetime class is deprecated and will be removed from pandas in a future version. Import from datetime module instead.\n",
      "  d = lambda x: pd.datetime.strptime(x, '%d-%b-%y')\n"
     ]
    },
    {
     "name": "stdout",
     "output_type": "stream",
     "text": [
      "(1125659, 18)\n"
     ]
    }
   ],
   "source": [
    "import pandas as pd\n",
    "import matplotlib.pyplot as plt\n",
    "import datetime\n",
    "\n",
    "# These commands below set some options for pandas and to have matplotlib show the charts in the notebook\n",
    "pd.set_option('display.max_rows', 1000)\n",
    "pd.options.display.float_format = '{:,.2f}'.format\n",
    "%matplotlib inline\n",
    "\n",
    "# Define a date parser to pass to read_csv\n",
    "d = lambda x: pd.datetime.strptime(x, '%d-%b-%y')\n",
    "\n",
    "# Load the data\n",
    "# We have this defaulted to the folder OUTSIDE of your repo - please change it as needed\n",
    "contrib = pd.read_csv('P00000001-CA.csv', index_col=False, parse_dates=['contb_receipt_dt'], date_parser=d)\n",
    "print(contrib.shape)\n",
    "\n",
    "# Note - for now, it is okay to ignore the warning about mixed types. "
   ]
  },
  {
   "cell_type": "code",
   "execution_count": 430,
   "metadata": {},
   "outputs": [
    {
     "name": "stdout",
     "output_type": "stream",
     "text": [
      "(654502, 18)\n"
     ]
    }
   ],
   "source": [
    "# Subset data to primary period \n",
    "contrib = contrib.copy()[contrib['contb_receipt_dt'] <= datetime.datetime(2016, 5, 31)]\n",
    "print(contrib.shape)"
   ]
  },
  {
   "cell_type": "markdown",
   "metadata": {},
   "source": [
    "## 1. Data  Exploration (20 points)\n",
    "\n",
    "**1a. First, take a preliminary look at the data.**\n",
    "- Print the *shape* of the data. What does this tell you about the number of variables and rows you have?\n",
    "- Print a list of column names. \n",
    "- Review the documentation for this data (link above). Do you have all of the columns you expect to have?\n",
    "- Sometimes variable names are not clear unless we read the documentation. In your own words, based on the documentation, what information does the `election_tp` variable contain?"
   ]
  },
  {
   "cell_type": "code",
   "execution_count": 431,
   "metadata": {
    "deletable": false,
    "nbgrader": {
     "checksum": "9f7a7938e43b14d3c7c49d6a278b0bb1",
     "grade": true,
     "grade_id": "cell-5d017805206f18b1",
     "locked": false,
     "points": 0,
     "schema_version": 1,
     "solution": true
    }
   },
   "outputs": [
    {
     "name": "stdout",
     "output_type": "stream",
     "text": [
      "Index(['cmte_id', 'cand_id', 'cand_nm', 'contbr_nm', 'contbr_city',\n",
      "       'contbr_st', 'contbr_zip', 'contbr_employer', 'contbr_occupation',\n",
      "       'contb_receipt_amt', 'contb_receipt_dt', 'receipt_desc', 'memo_cd',\n",
      "       'memo_text', 'form_tp', 'file_num', 'tran_id', 'election_tp'],\n",
      "      dtype='object')\n"
     ]
    }
   ],
   "source": [
    "print(contrib.columns)"
   ]
  },
  {
   "cell_type": "markdown",
   "metadata": {
    "deletable": false,
    "nbgrader": {
     "checksum": "e6a198453ec4b0171a064fef0bd7c678",
     "grade": true,
     "grade_id": "cell-3bc26919169bf4aa",
     "locked": false,
     "points": 5,
     "schema_version": 1,
     "solution": true
    }
   },
   "source": [
    "The shape data tells me that there are 1,125,659 rows, 18 columns total in the dataset. The subset of the data we're looking at has 654,502 rows and 18 columns. \n",
    "\n",
    "Comparing the list of the columns in the data subset at hand to the documentation, it does appear we have all the columns (a total of 18) we should have. \n",
    "\n",
    "The election type variable indicates the election for which the contribution was made (primary, general, other, etc.) It is a string variable."
   ]
  },
  {
   "cell_type": "markdown",
   "metadata": {},
   "source": [
    "**1b. Print the first 5 rows from the dataset to manually check some of the data.** \n",
    "\n",
    "This is a good idea to ensure the data loaded and the columns parsed correctly!"
   ]
  },
  {
   "cell_type": "code",
   "execution_count": 432,
   "metadata": {
    "deletable": false,
    "nbgrader": {
     "checksum": "4fbf682f1c78b3614832c6f48ecd88c7",
     "grade": true,
     "grade_id": "cell-72bc97601b84f17d",
     "locked": false,
     "points": 5,
     "schema_version": 1,
     "solution": true
    }
   },
   "outputs": [
    {
     "data": {
      "text/html": [
       "<div>\n",
       "<style scoped>\n",
       "    .dataframe tbody tr th:only-of-type {\n",
       "        vertical-align: middle;\n",
       "    }\n",
       "\n",
       "    .dataframe tbody tr th {\n",
       "        vertical-align: top;\n",
       "    }\n",
       "\n",
       "    .dataframe thead th {\n",
       "        text-align: right;\n",
       "    }\n",
       "</style>\n",
       "<table border=\"1\" class=\"dataframe\">\n",
       "  <thead>\n",
       "    <tr style=\"text-align: right;\">\n",
       "      <th></th>\n",
       "      <th>cmte_id</th>\n",
       "      <th>cand_id</th>\n",
       "      <th>cand_nm</th>\n",
       "      <th>contbr_nm</th>\n",
       "      <th>contbr_city</th>\n",
       "      <th>contbr_st</th>\n",
       "      <th>contbr_zip</th>\n",
       "      <th>contbr_employer</th>\n",
       "      <th>contbr_occupation</th>\n",
       "      <th>contb_receipt_amt</th>\n",
       "      <th>contb_receipt_dt</th>\n",
       "      <th>receipt_desc</th>\n",
       "      <th>memo_cd</th>\n",
       "      <th>memo_text</th>\n",
       "      <th>form_tp</th>\n",
       "      <th>file_num</th>\n",
       "      <th>tran_id</th>\n",
       "      <th>election_tp</th>\n",
       "    </tr>\n",
       "  </thead>\n",
       "  <tbody>\n",
       "    <tr>\n",
       "      <th>0</th>\n",
       "      <td>C00575795</td>\n",
       "      <td>P00003392</td>\n",
       "      <td>Clinton, Hillary Rodham</td>\n",
       "      <td>AULL, ANNE</td>\n",
       "      <td>LARKSPUR</td>\n",
       "      <td>CA</td>\n",
       "      <td>949,391,913.00</td>\n",
       "      <td>NaN</td>\n",
       "      <td>RETIRED</td>\n",
       "      <td>50.00</td>\n",
       "      <td>2016-04-26</td>\n",
       "      <td>NaN</td>\n",
       "      <td>X</td>\n",
       "      <td>* HILLARY VICTORY FUND</td>\n",
       "      <td>SA18</td>\n",
       "      <td>1091718</td>\n",
       "      <td>C4768722</td>\n",
       "      <td>P2016</td>\n",
       "    </tr>\n",
       "    <tr>\n",
       "      <th>1</th>\n",
       "      <td>C00575795</td>\n",
       "      <td>P00003392</td>\n",
       "      <td>Clinton, Hillary Rodham</td>\n",
       "      <td>CARROLL, MARYJEAN</td>\n",
       "      <td>CAMBRIA</td>\n",
       "      <td>CA</td>\n",
       "      <td>934,284,638.00</td>\n",
       "      <td>NaN</td>\n",
       "      <td>RETIRED</td>\n",
       "      <td>200.00</td>\n",
       "      <td>2016-04-20</td>\n",
       "      <td>NaN</td>\n",
       "      <td>X</td>\n",
       "      <td>* HILLARY VICTORY FUND</td>\n",
       "      <td>SA18</td>\n",
       "      <td>1091718</td>\n",
       "      <td>C4747242</td>\n",
       "      <td>P2016</td>\n",
       "    </tr>\n",
       "    <tr>\n",
       "      <th>2</th>\n",
       "      <td>C00575795</td>\n",
       "      <td>P00003392</td>\n",
       "      <td>Clinton, Hillary Rodham</td>\n",
       "      <td>GANDARA, DESIREE</td>\n",
       "      <td>FONTANA</td>\n",
       "      <td>CA</td>\n",
       "      <td>923,371,507.00</td>\n",
       "      <td>NaN</td>\n",
       "      <td>RETIRED</td>\n",
       "      <td>5.00</td>\n",
       "      <td>2016-04-02</td>\n",
       "      <td>NaN</td>\n",
       "      <td>X</td>\n",
       "      <td>* HILLARY VICTORY FUND</td>\n",
       "      <td>SA18</td>\n",
       "      <td>1091718</td>\n",
       "      <td>C4666603</td>\n",
       "      <td>P2016</td>\n",
       "    </tr>\n",
       "    <tr>\n",
       "      <th>3</th>\n",
       "      <td>C00577130</td>\n",
       "      <td>P60007168</td>\n",
       "      <td>Sanders, Bernard</td>\n",
       "      <td>LEE, ALAN</td>\n",
       "      <td>CAMARILLO</td>\n",
       "      <td>CA</td>\n",
       "      <td>930,111,214.00</td>\n",
       "      <td>AT&amp;T GOVERNMENT SOLUTIONS</td>\n",
       "      <td>SOFTWARE ENGINEER</td>\n",
       "      <td>40.00</td>\n",
       "      <td>2016-03-04</td>\n",
       "      <td>NaN</td>\n",
       "      <td>NaN</td>\n",
       "      <td>* EARMARKED CONTRIBUTION: SEE BELOW</td>\n",
       "      <td>SA17A</td>\n",
       "      <td>1077404</td>\n",
       "      <td>VPF7BKWA097</td>\n",
       "      <td>P2016</td>\n",
       "    </tr>\n",
       "    <tr>\n",
       "      <th>4</th>\n",
       "      <td>C00577130</td>\n",
       "      <td>P60007168</td>\n",
       "      <td>Sanders, Bernard</td>\n",
       "      <td>LEONELLI, ODETTE</td>\n",
       "      <td>REDONDO BEACH</td>\n",
       "      <td>CA</td>\n",
       "      <td>902,784,310.00</td>\n",
       "      <td>VERICOR ENTERPRISES INC.</td>\n",
       "      <td>PHARMACIST</td>\n",
       "      <td>35.00</td>\n",
       "      <td>2016-03-05</td>\n",
       "      <td>NaN</td>\n",
       "      <td>NaN</td>\n",
       "      <td>* EARMARKED CONTRIBUTION: SEE BELOW</td>\n",
       "      <td>SA17A</td>\n",
       "      <td>1077404</td>\n",
       "      <td>VPF7BKX3MB3</td>\n",
       "      <td>P2016</td>\n",
       "    </tr>\n",
       "  </tbody>\n",
       "</table>\n",
       "</div>"
      ],
      "text/plain": [
       "     cmte_id    cand_id                  cand_nm          contbr_nm  \\\n",
       "0  C00575795  P00003392  Clinton, Hillary Rodham         AULL, ANNE   \n",
       "1  C00575795  P00003392  Clinton, Hillary Rodham  CARROLL, MARYJEAN   \n",
       "2  C00575795  P00003392  Clinton, Hillary Rodham   GANDARA, DESIREE   \n",
       "3  C00577130  P60007168         Sanders, Bernard          LEE, ALAN   \n",
       "4  C00577130  P60007168         Sanders, Bernard   LEONELLI, ODETTE   \n",
       "\n",
       "     contbr_city contbr_st     contbr_zip            contbr_employer  \\\n",
       "0       LARKSPUR        CA 949,391,913.00                        NaN   \n",
       "1        CAMBRIA        CA 934,284,638.00                        NaN   \n",
       "2        FONTANA        CA 923,371,507.00                        NaN   \n",
       "3      CAMARILLO        CA 930,111,214.00  AT&T GOVERNMENT SOLUTIONS   \n",
       "4  REDONDO BEACH        CA 902,784,310.00   VERICOR ENTERPRISES INC.   \n",
       "\n",
       "   contbr_occupation  contb_receipt_amt contb_receipt_dt receipt_desc memo_cd  \\\n",
       "0            RETIRED              50.00       2016-04-26          NaN       X   \n",
       "1            RETIRED             200.00       2016-04-20          NaN       X   \n",
       "2            RETIRED               5.00       2016-04-02          NaN       X   \n",
       "3  SOFTWARE ENGINEER              40.00       2016-03-04          NaN     NaN   \n",
       "4         PHARMACIST              35.00       2016-03-05          NaN     NaN   \n",
       "\n",
       "                             memo_text form_tp  file_num      tran_id  \\\n",
       "0               * HILLARY VICTORY FUND    SA18   1091718     C4768722   \n",
       "1               * HILLARY VICTORY FUND    SA18   1091718     C4747242   \n",
       "2               * HILLARY VICTORY FUND    SA18   1091718     C4666603   \n",
       "3  * EARMARKED CONTRIBUTION: SEE BELOW   SA17A   1077404  VPF7BKWA097   \n",
       "4  * EARMARKED CONTRIBUTION: SEE BELOW   SA17A   1077404  VPF7BKX3MB3   \n",
       "\n",
       "  election_tp  \n",
       "0       P2016  \n",
       "1       P2016  \n",
       "2       P2016  \n",
       "3       P2016  \n",
       "4       P2016  "
      ]
     },
     "execution_count": 432,
     "metadata": {},
     "output_type": "execute_result"
    }
   ],
   "source": [
    "contrib.head()"
   ]
  },
  {
   "cell_type": "markdown",
   "metadata": {},
   "source": [
    "**1c. Pick three variables from the dataset above and run some quick sanity checks.**\n",
    "\n",
    "When working with a new dataset, it is important to explore and sanity check your variables. For example, you may want to examine the maximum and minimum values, a frequency count, or something else. Use the three markdown cells below to explain if your **three** chosen variables \"pass\" your sanity checks or if you have concerns about the integrity of your data and why. "
   ]
  },
  {
   "cell_type": "code",
   "execution_count": 433,
   "metadata": {
    "deletable": false,
    "nbgrader": {
     "checksum": "0ec29a2cabd52709322d1cfd650babe7",
     "grade": true,
     "grade_id": "cell-23b51536d24c1645",
     "locked": false,
     "points": 0,
     "schema_version": 1,
     "solution": true
    }
   },
   "outputs": [
    {
     "name": "stdout",
     "output_type": "stream",
     "text": [
      "<class 'pandas.core.frame.DataFrame'>\n",
      "Int64Index: 654502 entries, 0 to 1125658\n",
      "Data columns (total 18 columns):\n",
      " #   Column             Non-Null Count   Dtype         \n",
      "---  ------             --------------   -----         \n",
      " 0   cmte_id            654502 non-null  object        \n",
      " 1   cand_id            654502 non-null  object        \n",
      " 2   cand_nm            654502 non-null  object        \n",
      " 3   contbr_nm          654502 non-null  object        \n",
      " 4   contbr_city        654501 non-null  object        \n",
      " 5   contbr_st          654502 non-null  object        \n",
      " 6   contbr_zip         654498 non-null  object        \n",
      " 7   contbr_employer    606837 non-null  object        \n",
      " 8   contbr_occupation  649308 non-null  object        \n",
      " 9   contb_receipt_amt  654502 non-null  float64       \n",
      " 10  contb_receipt_dt   654502 non-null  datetime64[ns]\n",
      " 11  receipt_desc       10446 non-null   object        \n",
      " 12  memo_cd            25635 non-null   object        \n",
      " 13  memo_text          381561 non-null  object        \n",
      " 14  form_tp            654502 non-null  object        \n",
      " 15  file_num           654502 non-null  int64         \n",
      " 16  tran_id            654502 non-null  object        \n",
      " 17  election_tp        654364 non-null  object        \n",
      "dtypes: datetime64[ns](1), float64(1), int64(1), object(15)\n",
      "memory usage: 94.9+ MB\n",
      "-------------\n",
      "Max:  10800.0\n",
      "Min:  -10000.0\n",
      "Mean:  126.4980542611056\n",
      "Any negative values:  True\n",
      "50.00     93888\n",
      "100.00    77369\n",
      "25.00     75836\n",
      "10.00     59972\n",
      "27.00     52218\n",
      "          ...  \n",
      "187.90        1\n",
      "44.60         1\n",
      "43.37         1\n",
      "52.55         1\n",
      "237.53        1\n",
      "Name: contb_receipt_amt, Length: 6612, dtype: int64\n"
     ]
    }
   ],
   "source": [
    "# Checking contrb_receipt_amt \n",
    "# Reported contribution amount \n",
    "column = contrib[\"contb_receipt_amt\"]\n",
    "\n",
    "contrib.info()\n",
    "\n",
    "print(\"-------------\")\n",
    "\n",
    "#check min, max of this field \n",
    "print(\"Max: \", column.max())\n",
    "print(\"Min: \",column.min()) #how is it a negative?\n",
    "\n",
    "#avg\n",
    "print(\"Mean: \", column.mean())\n",
    "\n",
    "print(\"Any negative values: \", (column < 0).any())\n",
    "\n",
    "#how many null or NaN\n",
    "print(contrib['contb_receipt_amt'].value_counts())"
   ]
  },
  {
   "cell_type": "code",
   "execution_count": 434,
   "metadata": {},
   "outputs": [
    {
     "name": "stdout",
     "output_type": "stream",
     "text": [
      "1\n"
     ]
    }
   ],
   "source": [
    "# checking contbr_st (should all be CA)\n",
    "column = contrib[\"contbr_st\"]\n",
    "\n",
    "print(len(pd.unique(column)))"
   ]
  },
  {
   "cell_type": "code",
   "execution_count": 435,
   "metadata": {},
   "outputs": [
    {
     "name": "stdout",
     "output_type": "stream",
     "text": [
      "Max:  2016-05-31 00:00:00\n",
      "Min:  2013-11-05 00:00:00\n"
     ]
    }
   ],
   "source": [
    "# checking contb_receipt_dt\n",
    "column = contrib[\"contb_receipt_dt\"]\n",
    "print(\"Max: \", column.max())\n",
    "print(\"Min: \",column.min()) "
   ]
  },
  {
   "cell_type": "markdown",
   "metadata": {
    "deletable": false,
    "nbgrader": {
     "checksum": "cfa64002e64474584dc1442b5a39b460",
     "grade": true,
     "grade_id": "cell-8a320c2ff7c24d98",
     "locked": false,
     "points": 0,
     "schema_version": 1,
     "solution": true
    }
   },
   "source": [
    "Contribution Receipt Amount: Did not pass sanity check \n",
    "This field has a negative number in it which is not explained in the documentation. It does not seem sensical for a negative contribution to be possible unless someone demanded a refund. All else (max, mean, data type) seem to look fine. \n",
    "\n",
    "Contbr_st: Passed\n",
    "There should only be one value in this field - CA. Only 1 unique value was detected.\n",
    "\n",
    "Contb_receipt_dt: Passed\n",
    "The max and mins look reasonable for this field - I think the format could be updated to only include the date \n"
   ]
  },
  {
   "cell_type": "markdown",
   "metadata": {},
   "source": [
    "**1d. Plotting a histogram** \n",
    "\n",
    "Make a histogram of **one** of the variables you picked above. What are some insights that you can see from this histogram? \n",
    "Remember to include on your histogram:\n",
    "- Include a title\n",
    "- Include axis labels\n",
    "- The correct number of bins to see the breakout of values\n",
    "- Hint: For some variables the range of values is very large. To do a better exploration, make the initial histogram the full range and then you can make a smaller histogram 'zoomed' in on a discreet range."
   ]
  },
  {
   "cell_type": "code",
   "execution_count": 436,
   "metadata": {},
   "outputs": [
    {
     "data": {
      "image/png": "[encoded data removed]",
      "text/plain": [
       "<Figure size 720x360 with 1 Axes>"
      ]
     },
     "metadata": {
      "needs_background": "light"
     },
     "output_type": "display_data"
    }
   ],
   "source": [
    "from matplotlib.pyplot import figure\n",
    "import matplotlib.dates as mdates\n",
    "\n",
    "fig = plt.figure()\n",
    "plt.hist(contrib['contb_receipt_dt'], bins=100, range=[\"2013-01-01\",\"2016-12-31\"])\n",
    "fig.suptitle('Contribution Receipt Dates Leading Up to 2016 Primary')\n",
    "plt.xlabel('Date (yyyy-mm)', fontsize=12)\n",
    "plt.ylabel('Number of donations', fontsize=12)\n",
    "fig.set_size_inches(10,5)"
   ]
  },
  {
   "cell_type": "markdown",
   "metadata": {},
   "source": [
    "The distribution shows that there was a lot of contribution activity in the year and a half lead up to the election with somewhat of a steep decline in amount around June 2016. There were small amounts of donations coming in starting in 2013 and until late 2016 but the distribution doesn't easily show that due to the large amounts around election time. "
   ]
  },
  {
   "cell_type": "markdown",
   "metadata": {},
   "source": [
    "## 2. Exploring Campaign Contributions (30 points)\n",
    "\n",
    "Let's investigate the donations to the candidates.\n",
    "\n",
    "**2a. Present a table that shows the number of donations to each candidate sorted by number of donations.**\n",
    "\n",
    "- When presenting data as a table, it is often best to sort the data in a meaningful way. This makes it easier for your reader to examine what you've done and to glean insights.  From now on, all tables that you present in this assignment (and course) should be sorted.\n",
    "- Hint: Use the `groupby` method. Groupby is explained in Unit 13: async 13.3 & 13.5\n",
    "- Hint: Use the `sort_values` method to sort the data so that candidates with the largest number of donations appear on top.\n",
    "\n",
    "Which candidate received the largest number of contributions (variable 'contb_receipt_amt')?"
   ]
  },
  {
   "cell_type": "code",
   "execution_count": 437,
   "metadata": {
    "deletable": false,
    "nbgrader": {
     "checksum": "442b24601da06376c43cbe6ef5c5348a",
     "grade": true,
     "grade_id": "cell-6a453219105384dd",
     "locked": false,
     "points": 0,
     "schema_version": 1,
     "solution": true
    }
   },
   "outputs": [
    {
     "data": {
      "text/plain": [
       "cand_nm\n",
       "Sanders, Bernard             371795\n",
       "Clinton, Hillary Rodham      163509\n",
       "Cruz, Rafael Edward 'Ted'     57136\n",
       "Carson, Benjamin S.           27342\n",
       "Rubio, Marco                  14089\n",
       "Fiorina, Carly                 4696\n",
       "Paul, Rand                     4256\n",
       "Bush, Jeb                      3114\n",
       "Kasich, John R.                2988\n",
       "Trump, Donald J.               2255\n",
       "Walker, Scott                   713\n",
       "Huckabee, Mike                  531\n",
       "O'Malley, Martin Joseph         397\n",
       "Lessig, Lawrence                372\n",
       "Graham, Lindsey O.              342\n",
       "Christie, Christopher J.        333\n",
       "Stein, Jill                     197\n",
       "Perry, James R. (Rick)          116\n",
       "Webb, James Henry Jr.           106\n",
       "Santorum, Richard J.             84\n",
       "Johnson, Gary                    77\n",
       "Jindal, Bobby                    31\n",
       "Pataki, George E.                20\n",
       "Gilmore, James S III              3\n",
       "Name: tran_id, dtype: int64"
      ]
     },
     "execution_count": 437,
     "metadata": {},
     "output_type": "execute_result"
    }
   ],
   "source": [
    "cbc = contrib.tran_id.groupby(contrib.cand_nm)\n",
    "cbc.size().sort_values(ascending=False)"
   ]
  },
  {
   "cell_type": "markdown",
   "metadata": {
    "deletable": false,
    "nbgrader": {
     "checksum": "c5a1b7f30648cced7269ccb9b1532bd6",
     "grade": true,
     "grade_id": "cell-90c49bd6471a3dc9",
     "locked": false,
     "points": 0,
     "schema_version": 1,
     "solution": true
    }
   },
   "source": [
    "Bernard Sanders"
   ]
  },
  {
   "cell_type": "markdown",
   "metadata": {},
   "source": [
    "**2b. Now, present a table that shows the total value of donations to each candidate. sorted by total value of the donations**\n",
    "\n",
    "Which candidate raised the most money in California?"
   ]
  },
  {
   "cell_type": "code",
   "execution_count": 438,
   "metadata": {},
   "outputs": [
    {
     "data": {
      "text/plain": [
       "cand_nm\n",
       "Clinton, Hillary Rodham     39,368,777.01\n",
       "Sanders, Bernard            18,773,871.31\n",
       "Cruz, Rafael Edward 'Ted'    6,286,460.34\n",
       "Rubio, Marco                 4,846,483.72\n",
       "Bush, Jeb                    3,325,536.83\n",
       "Carson, Benjamin S.          2,952,109.00\n",
       "Kasich, John R.              1,553,823.54\n",
       "Fiorina, Carly               1,468,489.42\n",
       "Trump, Donald J.               893,356.89\n",
       "Paul, Rand                     797,624.29\n",
       "Walker, Scott                  495,006.90\n",
       "Christie, Christopher J.       456,066.00\n",
       "Graham, Lindsey O.             408,595.00\n",
       "O'Malley, Martin Joseph        297,834.26\n",
       "Huckabee, Mike                 230,890.60\n",
       "Perry, James R. (Rick)         208,400.00\n",
       "Lessig, Lawrence               186,144.50\n",
       "Webb, James Henry Jr.           76,568.16\n",
       "Johnson, Gary                   41,187.60\n",
       "Santorum, Richard J.            36,304.88\n",
       "Pataki, George E.               30,450.00\n",
       "Stein, Jill                     27,918.00\n",
       "Jindal, Bobby                   23,231.26\n",
       "Gilmore, James S III             8,100.00\n",
       "Name: contb_receipt_amt, dtype: float64"
      ]
     },
     "execution_count": 438,
     "metadata": {},
     "output_type": "execute_result"
    }
   ],
   "source": [
    "tcc = contrib.contb_receipt_amt.groupby(contrib.cand_nm)\n",
    "tcc.sum().sort_values(ascending=False)"
   ]
  },
  {
   "cell_type": "markdown",
   "metadata": {
    "deletable": false,
    "nbgrader": {
     "checksum": "60d3e303837e9603de5b96e32af7d806",
     "grade": true,
     "grade_id": "cell-447dc63eff8ebc5f",
     "locked": false,
     "points": 0,
     "schema_version": 1,
     "solution": true
    }
   },
   "source": [
    "Hillary Clinton"
   ]
  },
  {
   "cell_type": "markdown",
   "metadata": {},
   "source": [
    "**2c. Combine the tables (sorted by either a or b above).**\n",
    "\n",
    "- Looking at the two tables you presented above - if those tables are Series convert them to DataFrames.\n",
    "- Rename the variable (column) names to accurately describe what is presented.\n",
    "- Merge together your tables to show the *count* and the *value* of donations to each candidate in one table.\n",
    "- Hint: Use the `merge` method."
   ]
  },
  {
   "cell_type": "code",
   "execution_count": 439,
   "metadata": {},
   "outputs": [
    {
     "data": {
      "text/html": [
       "<div>\n",
       "<style scoped>\n",
       "    .dataframe tbody tr th:only-of-type {\n",
       "        vertical-align: middle;\n",
       "    }\n",
       "\n",
       "    .dataframe tbody tr th {\n",
       "        vertical-align: top;\n",
       "    }\n",
       "\n",
       "    .dataframe thead th {\n",
       "        text-align: right;\n",
       "    }\n",
       "</style>\n",
       "<table border=\"1\" class=\"dataframe\">\n",
       "  <thead>\n",
       "    <tr style=\"text-align: right;\">\n",
       "      <th></th>\n",
       "      <th>Candidate_Name</th>\n",
       "      <th>Count_Contributions</th>\n",
       "      <th>Sum_Contributions</th>\n",
       "    </tr>\n",
       "  </thead>\n",
       "  <tbody>\n",
       "    <tr>\n",
       "      <th>0</th>\n",
       "      <td>Sanders, Bernard</td>\n",
       "      <td>371795</td>\n",
       "      <td>18,773,871.31</td>\n",
       "    </tr>\n",
       "    <tr>\n",
       "      <th>1</th>\n",
       "      <td>Clinton, Hillary Rodham</td>\n",
       "      <td>163509</td>\n",
       "      <td>39,368,777.01</td>\n",
       "    </tr>\n",
       "    <tr>\n",
       "      <th>2</th>\n",
       "      <td>Cruz, Rafael Edward 'Ted'</td>\n",
       "      <td>57136</td>\n",
       "      <td>6,286,460.34</td>\n",
       "    </tr>\n",
       "    <tr>\n",
       "      <th>3</th>\n",
       "      <td>Carson, Benjamin S.</td>\n",
       "      <td>27342</td>\n",
       "      <td>2,952,109.00</td>\n",
       "    </tr>\n",
       "    <tr>\n",
       "      <th>4</th>\n",
       "      <td>Rubio, Marco</td>\n",
       "      <td>14089</td>\n",
       "      <td>4,846,483.72</td>\n",
       "    </tr>\n",
       "    <tr>\n",
       "      <th>5</th>\n",
       "      <td>Fiorina, Carly</td>\n",
       "      <td>4696</td>\n",
       "      <td>1,468,489.42</td>\n",
       "    </tr>\n",
       "    <tr>\n",
       "      <th>6</th>\n",
       "      <td>Paul, Rand</td>\n",
       "      <td>4256</td>\n",
       "      <td>797,624.29</td>\n",
       "    </tr>\n",
       "    <tr>\n",
       "      <th>7</th>\n",
       "      <td>Bush, Jeb</td>\n",
       "      <td>3114</td>\n",
       "      <td>3,325,536.83</td>\n",
       "    </tr>\n",
       "    <tr>\n",
       "      <th>8</th>\n",
       "      <td>Kasich, John R.</td>\n",
       "      <td>2988</td>\n",
       "      <td>1,553,823.54</td>\n",
       "    </tr>\n",
       "    <tr>\n",
       "      <th>9</th>\n",
       "      <td>Trump, Donald J.</td>\n",
       "      <td>2255</td>\n",
       "      <td>893,356.89</td>\n",
       "    </tr>\n",
       "    <tr>\n",
       "      <th>10</th>\n",
       "      <td>Walker, Scott</td>\n",
       "      <td>713</td>\n",
       "      <td>495,006.90</td>\n",
       "    </tr>\n",
       "    <tr>\n",
       "      <th>11</th>\n",
       "      <td>Huckabee, Mike</td>\n",
       "      <td>531</td>\n",
       "      <td>230,890.60</td>\n",
       "    </tr>\n",
       "    <tr>\n",
       "      <th>12</th>\n",
       "      <td>O'Malley, Martin Joseph</td>\n",
       "      <td>397</td>\n",
       "      <td>297,834.26</td>\n",
       "    </tr>\n",
       "    <tr>\n",
       "      <th>13</th>\n",
       "      <td>Lessig, Lawrence</td>\n",
       "      <td>372</td>\n",
       "      <td>186,144.50</td>\n",
       "    </tr>\n",
       "    <tr>\n",
       "      <th>14</th>\n",
       "      <td>Graham, Lindsey O.</td>\n",
       "      <td>342</td>\n",
       "      <td>408,595.00</td>\n",
       "    </tr>\n",
       "    <tr>\n",
       "      <th>15</th>\n",
       "      <td>Christie, Christopher J.</td>\n",
       "      <td>333</td>\n",
       "      <td>456,066.00</td>\n",
       "    </tr>\n",
       "    <tr>\n",
       "      <th>16</th>\n",
       "      <td>Stein, Jill</td>\n",
       "      <td>197</td>\n",
       "      <td>27,918.00</td>\n",
       "    </tr>\n",
       "    <tr>\n",
       "      <th>17</th>\n",
       "      <td>Perry, James R. (Rick)</td>\n",
       "      <td>116</td>\n",
       "      <td>208,400.00</td>\n",
       "    </tr>\n",
       "    <tr>\n",
       "      <th>18</th>\n",
       "      <td>Webb, James Henry Jr.</td>\n",
       "      <td>106</td>\n",
       "      <td>76,568.16</td>\n",
       "    </tr>\n",
       "    <tr>\n",
       "      <th>19</th>\n",
       "      <td>Santorum, Richard J.</td>\n",
       "      <td>84</td>\n",
       "      <td>36,304.88</td>\n",
       "    </tr>\n",
       "    <tr>\n",
       "      <th>20</th>\n",
       "      <td>Johnson, Gary</td>\n",
       "      <td>77</td>\n",
       "      <td>41,187.60</td>\n",
       "    </tr>\n",
       "    <tr>\n",
       "      <th>21</th>\n",
       "      <td>Jindal, Bobby</td>\n",
       "      <td>31</td>\n",
       "      <td>23,231.26</td>\n",
       "    </tr>\n",
       "    <tr>\n",
       "      <th>22</th>\n",
       "      <td>Pataki, George E.</td>\n",
       "      <td>20</td>\n",
       "      <td>30,450.00</td>\n",
       "    </tr>\n",
       "    <tr>\n",
       "      <th>23</th>\n",
       "      <td>Gilmore, James S III</td>\n",
       "      <td>3</td>\n",
       "      <td>8,100.00</td>\n",
       "    </tr>\n",
       "  </tbody>\n",
       "</table>\n",
       "</div>"
      ],
      "text/plain": [
       "               Candidate_Name  Count_Contributions  Sum_Contributions\n",
       "0            Sanders, Bernard               371795      18,773,871.31\n",
       "1     Clinton, Hillary Rodham               163509      39,368,777.01\n",
       "2   Cruz, Rafael Edward 'Ted'                57136       6,286,460.34\n",
       "3         Carson, Benjamin S.                27342       2,952,109.00\n",
       "4                Rubio, Marco                14089       4,846,483.72\n",
       "5              Fiorina, Carly                 4696       1,468,489.42\n",
       "6                  Paul, Rand                 4256         797,624.29\n",
       "7                   Bush, Jeb                 3114       3,325,536.83\n",
       "8             Kasich, John R.                 2988       1,553,823.54\n",
       "9            Trump, Donald J.                 2255         893,356.89\n",
       "10              Walker, Scott                  713         495,006.90\n",
       "11             Huckabee, Mike                  531         230,890.60\n",
       "12    O'Malley, Martin Joseph                  397         297,834.26\n",
       "13           Lessig, Lawrence                  372         186,144.50\n",
       "14         Graham, Lindsey O.                  342         408,595.00\n",
       "15   Christie, Christopher J.                  333         456,066.00\n",
       "16                Stein, Jill                  197          27,918.00\n",
       "17     Perry, James R. (Rick)                  116         208,400.00\n",
       "18      Webb, James Henry Jr.                  106          76,568.16\n",
       "19       Santorum, Richard J.                   84          36,304.88\n",
       "20              Johnson, Gary                   77          41,187.60\n",
       "21              Jindal, Bobby                   31          23,231.26\n",
       "22          Pataki, George E.                   20          30,450.00\n",
       "23       Gilmore, James S III                    3           8,100.00"
      ]
     },
     "execution_count": 439,
     "metadata": {},
     "output_type": "execute_result"
    }
   ],
   "source": [
    "cbc_df = cbc.size().sort_values(ascending=False).to_frame(name = \"Count_Contributions\").reset_index()\n",
    "tcc_df = tcc.sum().sort_values(ascending=False).to_frame(name = \"Sum_Contributions\").reset_index()\n",
    "\n",
    "cbc_df = cbc_df.rename(columns = {'cand_nm':'Candidate_Name'})\n",
    "tcc_df = tcc_df.rename(columns = {'cand_nm':'Candidate_Name'})\n",
    "\n",
    "combined = pd.merge(cbc_df, tcc_df, on=\"Candidate_Name\")\n",
    "\n",
    "combined"
   ]
  },
  {
   "cell_type": "markdown",
   "metadata": {},
   "source": [
    "**2d. Calculate and add a new variable to the table from 2c that shows the average \\$ per donation. Print this table sorted by the average donation**"
   ]
  },
  {
   "cell_type": "code",
   "execution_count": 440,
   "metadata": {},
   "outputs": [
    {
     "data": {
      "text/html": [
       "<div>\n",
       "<style scoped>\n",
       "    .dataframe tbody tr th:only-of-type {\n",
       "        vertical-align: middle;\n",
       "    }\n",
       "\n",
       "    .dataframe tbody tr th {\n",
       "        vertical-align: top;\n",
       "    }\n",
       "\n",
       "    .dataframe thead th {\n",
       "        text-align: right;\n",
       "    }\n",
       "</style>\n",
       "<table border=\"1\" class=\"dataframe\">\n",
       "  <thead>\n",
       "    <tr style=\"text-align: right;\">\n",
       "      <th></th>\n",
       "      <th>Candidate_Name</th>\n",
       "      <th>Count_Contributions</th>\n",
       "      <th>Sum_Contributions</th>\n",
       "      <th>Avg_Contribution</th>\n",
       "    </tr>\n",
       "  </thead>\n",
       "  <tbody>\n",
       "    <tr>\n",
       "      <th>23</th>\n",
       "      <td>Gilmore, James S III</td>\n",
       "      <td>3</td>\n",
       "      <td>8,100.00</td>\n",
       "      <td>2,700.00</td>\n",
       "    </tr>\n",
       "    <tr>\n",
       "      <th>17</th>\n",
       "      <td>Perry, James R. (Rick)</td>\n",
       "      <td>116</td>\n",
       "      <td>208,400.00</td>\n",
       "      <td>1,796.55</td>\n",
       "    </tr>\n",
       "    <tr>\n",
       "      <th>22</th>\n",
       "      <td>Pataki, George E.</td>\n",
       "      <td>20</td>\n",
       "      <td>30,450.00</td>\n",
       "      <td>1,522.50</td>\n",
       "    </tr>\n",
       "    <tr>\n",
       "      <th>15</th>\n",
       "      <td>Christie, Christopher J.</td>\n",
       "      <td>333</td>\n",
       "      <td>456,066.00</td>\n",
       "      <td>1,369.57</td>\n",
       "    </tr>\n",
       "    <tr>\n",
       "      <th>14</th>\n",
       "      <td>Graham, Lindsey O.</td>\n",
       "      <td>342</td>\n",
       "      <td>408,595.00</td>\n",
       "      <td>1,194.72</td>\n",
       "    </tr>\n",
       "    <tr>\n",
       "      <th>7</th>\n",
       "      <td>Bush, Jeb</td>\n",
       "      <td>3114</td>\n",
       "      <td>3,325,536.83</td>\n",
       "      <td>1,067.93</td>\n",
       "    </tr>\n",
       "    <tr>\n",
       "      <th>12</th>\n",
       "      <td>O'Malley, Martin Joseph</td>\n",
       "      <td>397</td>\n",
       "      <td>297,834.26</td>\n",
       "      <td>750.21</td>\n",
       "    </tr>\n",
       "    <tr>\n",
       "      <th>21</th>\n",
       "      <td>Jindal, Bobby</td>\n",
       "      <td>31</td>\n",
       "      <td>23,231.26</td>\n",
       "      <td>749.40</td>\n",
       "    </tr>\n",
       "    <tr>\n",
       "      <th>18</th>\n",
       "      <td>Webb, James Henry Jr.</td>\n",
       "      <td>106</td>\n",
       "      <td>76,568.16</td>\n",
       "      <td>722.34</td>\n",
       "    </tr>\n",
       "    <tr>\n",
       "      <th>10</th>\n",
       "      <td>Walker, Scott</td>\n",
       "      <td>713</td>\n",
       "      <td>495,006.90</td>\n",
       "      <td>694.26</td>\n",
       "    </tr>\n",
       "    <tr>\n",
       "      <th>20</th>\n",
       "      <td>Johnson, Gary</td>\n",
       "      <td>77</td>\n",
       "      <td>41,187.60</td>\n",
       "      <td>534.90</td>\n",
       "    </tr>\n",
       "    <tr>\n",
       "      <th>8</th>\n",
       "      <td>Kasich, John R.</td>\n",
       "      <td>2988</td>\n",
       "      <td>1,553,823.54</td>\n",
       "      <td>520.02</td>\n",
       "    </tr>\n",
       "    <tr>\n",
       "      <th>13</th>\n",
       "      <td>Lessig, Lawrence</td>\n",
       "      <td>372</td>\n",
       "      <td>186,144.50</td>\n",
       "      <td>500.39</td>\n",
       "    </tr>\n",
       "    <tr>\n",
       "      <th>11</th>\n",
       "      <td>Huckabee, Mike</td>\n",
       "      <td>531</td>\n",
       "      <td>230,890.60</td>\n",
       "      <td>434.82</td>\n",
       "    </tr>\n",
       "    <tr>\n",
       "      <th>19</th>\n",
       "      <td>Santorum, Richard J.</td>\n",
       "      <td>84</td>\n",
       "      <td>36,304.88</td>\n",
       "      <td>432.20</td>\n",
       "    </tr>\n",
       "    <tr>\n",
       "      <th>9</th>\n",
       "      <td>Trump, Donald J.</td>\n",
       "      <td>2255</td>\n",
       "      <td>893,356.89</td>\n",
       "      <td>396.17</td>\n",
       "    </tr>\n",
       "    <tr>\n",
       "      <th>4</th>\n",
       "      <td>Rubio, Marco</td>\n",
       "      <td>14089</td>\n",
       "      <td>4,846,483.72</td>\n",
       "      <td>343.99</td>\n",
       "    </tr>\n",
       "    <tr>\n",
       "      <th>5</th>\n",
       "      <td>Fiorina, Carly</td>\n",
       "      <td>4696</td>\n",
       "      <td>1,468,489.42</td>\n",
       "      <td>312.71</td>\n",
       "    </tr>\n",
       "    <tr>\n",
       "      <th>1</th>\n",
       "      <td>Clinton, Hillary Rodham</td>\n",
       "      <td>163509</td>\n",
       "      <td>39,368,777.01</td>\n",
       "      <td>240.77</td>\n",
       "    </tr>\n",
       "    <tr>\n",
       "      <th>6</th>\n",
       "      <td>Paul, Rand</td>\n",
       "      <td>4256</td>\n",
       "      <td>797,624.29</td>\n",
       "      <td>187.41</td>\n",
       "    </tr>\n",
       "    <tr>\n",
       "      <th>16</th>\n",
       "      <td>Stein, Jill</td>\n",
       "      <td>197</td>\n",
       "      <td>27,918.00</td>\n",
       "      <td>141.72</td>\n",
       "    </tr>\n",
       "    <tr>\n",
       "      <th>2</th>\n",
       "      <td>Cruz, Rafael Edward 'Ted'</td>\n",
       "      <td>57136</td>\n",
       "      <td>6,286,460.34</td>\n",
       "      <td>110.03</td>\n",
       "    </tr>\n",
       "    <tr>\n",
       "      <th>3</th>\n",
       "      <td>Carson, Benjamin S.</td>\n",
       "      <td>27342</td>\n",
       "      <td>2,952,109.00</td>\n",
       "      <td>107.97</td>\n",
       "    </tr>\n",
       "    <tr>\n",
       "      <th>0</th>\n",
       "      <td>Sanders, Bernard</td>\n",
       "      <td>371795</td>\n",
       "      <td>18,773,871.31</td>\n",
       "      <td>50.50</td>\n",
       "    </tr>\n",
       "  </tbody>\n",
       "</table>\n",
       "</div>"
      ],
      "text/plain": [
       "               Candidate_Name  Count_Contributions  Sum_Contributions  \\\n",
       "23       Gilmore, James S III                    3           8,100.00   \n",
       "17     Perry, James R. (Rick)                  116         208,400.00   \n",
       "22          Pataki, George E.                   20          30,450.00   \n",
       "15   Christie, Christopher J.                  333         456,066.00   \n",
       "14         Graham, Lindsey O.                  342         408,595.00   \n",
       "7                   Bush, Jeb                 3114       3,325,536.83   \n",
       "12    O'Malley, Martin Joseph                  397         297,834.26   \n",
       "21              Jindal, Bobby                   31          23,231.26   \n",
       "18      Webb, James Henry Jr.                  106          76,568.16   \n",
       "10              Walker, Scott                  713         495,006.90   \n",
       "20              Johnson, Gary                   77          41,187.60   \n",
       "8             Kasich, John R.                 2988       1,553,823.54   \n",
       "13           Lessig, Lawrence                  372         186,144.50   \n",
       "11             Huckabee, Mike                  531         230,890.60   \n",
       "19       Santorum, Richard J.                   84          36,304.88   \n",
       "9            Trump, Donald J.                 2255         893,356.89   \n",
       "4                Rubio, Marco                14089       4,846,483.72   \n",
       "5              Fiorina, Carly                 4696       1,468,489.42   \n",
       "1     Clinton, Hillary Rodham               163509      39,368,777.01   \n",
       "6                  Paul, Rand                 4256         797,624.29   \n",
       "16                Stein, Jill                  197          27,918.00   \n",
       "2   Cruz, Rafael Edward 'Ted'                57136       6,286,460.34   \n",
       "3         Carson, Benjamin S.                27342       2,952,109.00   \n",
       "0            Sanders, Bernard               371795      18,773,871.31   \n",
       "\n",
       "    Avg_Contribution  \n",
       "23          2,700.00  \n",
       "17          1,796.55  \n",
       "22          1,522.50  \n",
       "15          1,369.57  \n",
       "14          1,194.72  \n",
       "7           1,067.93  \n",
       "12            750.21  \n",
       "21            749.40  \n",
       "18            722.34  \n",
       "10            694.26  \n",
       "20            534.90  \n",
       "8             520.02  \n",
       "13            500.39  \n",
       "11            434.82  \n",
       "19            432.20  \n",
       "9             396.17  \n",
       "4             343.99  \n",
       "5             312.71  \n",
       "1             240.77  \n",
       "6             187.41  \n",
       "16            141.72  \n",
       "2             110.03  \n",
       "3             107.97  \n",
       "0              50.50  "
      ]
     },
     "execution_count": 440,
     "metadata": {},
     "output_type": "execute_result"
    }
   ],
   "source": [
    "avg_scores = [row.Sum_Contributions / row.Count_Contributions for index, row in combined.iterrows()]\n",
    "\n",
    "avg_scores = [float(\"%.2f\"%cont) for cont in avg_scores]\n",
    "\n",
    "combined['Avg_Contribution'] = avg_scores\n",
    "\n",
    "combined = combined.sort_values(\"Avg_Contribution\", ascending=False)\n",
    "\n",
    "combined\n"
   ]
  },
  {
   "cell_type": "markdown",
   "metadata": {},
   "source": [
    "**2e. Plotting a Bar Chart**\n",
    "\n",
    "Make a single bar chart that shows two different bars per candidate with one bar as the total value of the donations and the other as average $ per donation. \n",
    "- Show the Candidates Name on the x-axis\n",
    "- Show the amount on the y-axis\n",
    "- Include a title\n",
    "- Include axis labels\n",
    "- Hint: Make the y-axis a log-scale to show both numbers! (matplotlib docs: https://matplotlib.org/3.1.1/api/_as_gen/matplotlib.pyplot.yscale.html )"
   ]
  },
  {
   "cell_type": "code",
   "execution_count": 441,
   "metadata": {},
   "outputs": [
    {
     "data": {
      "image/png": "[encoded data removed]",
      "text/plain": [
       "<Figure size 720x360 with 1 Axes>"
      ]
     },
     "metadata": {
      "needs_background": "light"
     },
     "output_type": "display_data"
    }
   ],
   "source": [
    "\n",
    "bc = combined.drop(columns=[\"Count_Contributions\"])\n",
    "bc=bc.sort_values(by=\"Sum_Contributions\")\n",
    "\n",
    "ax = bc.plot.bar(x=\"Candidate_Name\", rot=90, figsize=(10,5), xlabel=\"Candidates\", ylabel=\"USD ($)\", title=\"2016 U.S. Presidential Primary Races - Contributions\")\n",
    "ax.set_yscale('log')\n",
    "\n",
    "\n",
    "\n"
   ]
  },
  {
   "cell_type": "markdown",
   "metadata": {},
   "source": [
    "**2f. Comment on the results of your data analysis in a short paragraph.**\n",
    "\n",
    "- There are several interesting conclusions you can draw from the table you have created.\n",
    "- What have you learned about campaign contributions in California?\n",
    "- We are looking for data insights here rather than comments on the code!"
   ]
  },
  {
   "cell_type": "markdown",
   "metadata": {},
   "source": [
    "The candidate that garnered the second-highest sum of contributions in California had the lowest average contribution size. This means more people donated at lower amounts. The candidate that recieved the fewest total contributions in CA had the highest average contributions, meaning he recieved this sum as a result of fewer donations. It appears those who recieved more are likely more popular and thus likely to garner more support from every day people who tend to donate in smaller amounts. "
   ]
  },
  {
   "cell_type": "markdown",
   "metadata": {},
   "source": [
    "## 3. Exploring Donor Occupations (30 points)\n",
    "\n",
    "Above in part 2, we saw that some simple data analysis can give us insights into the campaigns of our candidates. Now let's quickly look to see what *kind* of person is donating to each campaign using the `contbr_occupation` variable."
   ]
  },
  {
   "cell_type": "markdown",
   "metadata": {},
   "source": [
    "**3a. Show the top 5 occupations of individuals that contributed to Hillary Clinton.** \n",
    "\n",
    "- Subset your data to create a dataframe with only donations for Hillary Clinton.\n",
    "- Then use the `value_counts` and `head` methods to present the top 5 occupations (`contbr_occupation`) for her donors.\n",
    "- Note: we are just interested in the count of donations, not the value of those donations."
   ]
  },
  {
   "cell_type": "code",
   "execution_count": 442,
   "metadata": {
    "deletable": false,
    "nbgrader": {
     "checksum": "20a71229316bf24a2ce62c52f72d8142",
     "grade": true,
     "grade_id": "cell-963603c5ed346a99",
     "locked": false,
     "points": 0,
     "schema_version": 1,
     "solution": true
    }
   },
   "outputs": [
    {
     "data": {
      "text/html": [
       "<div>\n",
       "<style scoped>\n",
       "    .dataframe tbody tr th:only-of-type {\n",
       "        vertical-align: middle;\n",
       "    }\n",
       "\n",
       "    .dataframe tbody tr th {\n",
       "        vertical-align: top;\n",
       "    }\n",
       "\n",
       "    .dataframe thead th {\n",
       "        text-align: right;\n",
       "    }\n",
       "</style>\n",
       "<table border=\"1\" class=\"dataframe\">\n",
       "  <thead>\n",
       "    <tr style=\"text-align: right;\">\n",
       "      <th></th>\n",
       "      <th>contbr_occupation</th>\n",
       "    </tr>\n",
       "  </thead>\n",
       "  <tbody>\n",
       "    <tr>\n",
       "      <th>RETIRED</th>\n",
       "      <td>33450</td>\n",
       "    </tr>\n",
       "    <tr>\n",
       "      <th>ATTORNEY</th>\n",
       "      <td>7315</td>\n",
       "    </tr>\n",
       "    <tr>\n",
       "      <th>INFORMATION REQUESTED</th>\n",
       "      <td>4742</td>\n",
       "    </tr>\n",
       "    <tr>\n",
       "      <th>TEACHER</th>\n",
       "      <td>3591</td>\n",
       "    </tr>\n",
       "    <tr>\n",
       "      <th>HOMEMAKER</th>\n",
       "      <td>3436</td>\n",
       "    </tr>\n",
       "  </tbody>\n",
       "</table>\n",
       "</div>"
      ],
      "text/plain": [
       "                       contbr_occupation\n",
       "RETIRED                            33450\n",
       "ATTORNEY                            7315\n",
       "INFORMATION REQUESTED               4742\n",
       "TEACHER                             3591\n",
       "HOMEMAKER                           3436"
      ]
     },
     "execution_count": 442,
     "metadata": {},
     "output_type": "execute_result"
    }
   ],
   "source": [
    "doex = contrib.groupby(contrib.cand_nm)\n",
    "hrc = doex.get_group(\"Clinton, Hillary Rodham\")\n",
    "\n",
    "hrc = hrc.contbr_occupation.value_counts()\n",
    "hrc = hrc.to_frame()\n",
    "\n",
    "hrc.head()"
   ]
  },
  {
   "cell_type": "markdown",
   "metadata": {
    "deletable": false,
    "nbgrader": {
     "checksum": "426b589a9d6457f38381eb1c77678d4f",
     "grade": true,
     "grade_id": "cell-b6fc3f7c906c95a2",
     "locked": false,
     "points": 0,
     "schema_version": 1,
     "solution": true
    }
   },
   "source": [
    "**3b. Write a function called `get_donors`.**\n",
    "\n",
    "Imagine that you want to do the previous operation on several candidates.  To keep your work neat, you want to take the work you did on the Clinton-subset and wrap it in a function that you can apply to other subsets of the data.\n",
    "\n",
    "- The function should take a DataFrame as a parameter, and return a Series containing the counts for the top 5 occupations contained in that DataFrame."
   ]
  },
  {
   "cell_type": "code",
   "execution_count": 443,
   "metadata": {
    "deletable": false,
    "nbgrader": {
     "checksum": "81ebf2a2f96961b4464f6c35d2143427",
     "grade": true,
     "grade_id": "cell-bea2cf7a6fff8565",
     "locked": false,
     "points": 0,
     "schema_version": 1,
     "solution": true
    }
   },
   "outputs": [],
   "source": [
    "def get_donors(df):\n",
    "    \"\"\"This function takes a dataframe that contains a variable named contbr_occupation.\n",
    "    It outputs a Series containing the counts for the 5 most common values of that\n",
    "    variable.\"\"\"\n",
    "    \n",
    "    top_prof = df.contbr_occupation.value_counts()\n",
    "    return top_prof.nlargest(n=5)"
   ]
  },
  {
   "cell_type": "markdown",
   "metadata": {},
   "source": [
    "**3c. Now run the `get_donors` function on subsets of the dataframe corresponding to three candidates. Show each of the three candidates below.**\n",
    "\n",
    "- Hillary Clinton\n",
    "- Bernie Sanders\n",
    "- Donald Trump"
   ]
  },
  {
   "cell_type": "code",
   "execution_count": 444,
   "metadata": {
    "deletable": false,
    "nbgrader": {
     "checksum": "bffd2778d22127102347386bfb6f5b20",
     "grade": true,
     "grade_id": "cell-4ad1da24176f0450",
     "locked": false,
     "points": 0,
     "schema_version": 1,
     "solution": true
    }
   },
   "outputs": [
    {
     "name": "stdout",
     "output_type": "stream",
     "text": [
      "Hillary: \n",
      " RETIRED                  33450\n",
      "ATTORNEY                  7315\n",
      "INFORMATION REQUESTED     4742\n",
      "TEACHER                   3591\n",
      "HOMEMAKER                 3436\n",
      "Name: contbr_occupation, dtype: int64 \n",
      "\n",
      "Bernie:\n",
      " NOT EMPLOYED         96371\n",
      "RETIRED              15048\n",
      "TEACHER              10167\n",
      "SOFTWARE ENGINEER     7861\n",
      "ENGINEER              7094\n",
      "Name: contbr_occupation, dtype: int64 \n",
      "\n",
      "Donald:\n",
      " RETIRED                  849\n",
      "INFORMATION REQUESTED     70\n",
      "CEO                       57\n",
      "OWNER                     51\n",
      "PRESIDENT                 35\n",
      "Name: contbr_occupation, dtype: int64\n"
     ]
    }
   ],
   "source": [
    "cd = contrib.groupby(contrib.cand_nm)\n",
    "\n",
    "#HRC\n",
    "hrc2 = cd.get_group(\"Clinton, Hillary Rodham\")\n",
    "hrc2=get_donors(hrc2)\n",
    "\n",
    "#Bern\n",
    "bern = cd.get_group(\"Sanders, Bernard\")\n",
    "bern=get_donors(bern)\n",
    "\n",
    "#dt\n",
    "dt = cd.get_group(\"Trump, Donald J.\")\n",
    "dt=get_donors(dt)\n",
    "\n",
    "print(\"Hillary: \\n\", hrc2, \"\\n\\nBernie:\\n\", bern, \"\\n\\nDonald:\\n\", dt)"
   ]
  },
  {
   "cell_type": "markdown",
   "metadata": {},
   "source": [
    "**3d. Finally, use `groupby` to separate the entire dataset by candidate.**\n",
    "\n",
    "- Call .apply(get_donors) on your groupby object, which will apply the function you wrote to each subset of your data.\n",
    "- Look at your output and marvel at what pandas can do in just one line!"
   ]
  },
  {
   "cell_type": "code",
   "execution_count": 445,
   "metadata": {},
   "outputs": [
    {
     "data": {
      "text/plain": [
       "cand_nm                                                          \n",
       "Bush, Jeb                  RETIRED                                     996\n",
       "                           HOMEMAKER                                   180\n",
       "                           ATTORNEY                                     92\n",
       "                           Q.A.                                         89\n",
       "                           PRESIDENT                                    84\n",
       "Carson, Benjamin S.        RETIRED                                   13692\n",
       "                           INFORMATION REQUESTED PER BEST EFFORTS     1614\n",
       "                           HOMEMAKER                                  1049\n",
       "                           PHYSICIAN                                   329\n",
       "                           R.N.                                        234\n",
       "Christie, Christopher J.   RETIRED                                      38\n",
       "                           NONE                                         22\n",
       "                           CONSULTANT                                   18\n",
       "                           CEO                                          16\n",
       "                           HOMEMAKER                                    15\n",
       "Clinton, Hillary Rodham    RETIRED                                   33450\n",
       "                           ATTORNEY                                   7315\n",
       "                           INFORMATION REQUESTED                      4742\n",
       "                           TEACHER                                    3591\n",
       "                           HOMEMAKER                                  3436\n",
       "Cruz, Rafael Edward 'Ted'  RETIRED                                   22956\n",
       "                           INFORMATION REQUESTED PER BEST EFFORTS     1651\n",
       "                           HOMEMAKER                                  1261\n",
       "                           ENGINEER                                   1080\n",
       "                           TEACHER                                     838\n",
       "Fiorina, Carly             RETIRED                                    1971\n",
       "                           HOMEMAKER                                   169\n",
       "                           ATTORNEY                                    140\n",
       "                           INFORMATION REQUESTED PER BEST EFFORTS       95\n",
       "                           INVESTOR                                     64\n",
       "Gilmore, James S III       COB                                           1\n",
       "                           FINANCIAL ADVISOR                             1\n",
       "                           INVESTMENT MANAGEMENT                         1\n",
       "Graham, Lindsey O.         RETIRED                                      78\n",
       "                           INFORMATION REQUESTED PER BEST EFFORTS       20\n",
       "                           EXECUTIVE                                    15\n",
       "                           PRINCIPAL                                    15\n",
       "                           PORTFOLIO MANAGER                            14\n",
       "Huckabee, Mike             RETIRED                                     206\n",
       "                           REQUESTED PER BEST EFFORTS                   36\n",
       "                           HOMEMAKER                                    22\n",
       "                           OWNER                                        13\n",
       "                           FUNERAL DIRECTOR                             12\n",
       "Jindal, Bobby              RETIRED                                       5\n",
       "                           ENGINEER                                      4\n",
       "                           PROFESSOR                                     3\n",
       "                           PRESIDENT                                     2\n",
       "                           PHYSICIAN                                     2\n",
       "Johnson, Gary              RETIRED                                      18\n",
       "                           TWICE REQUESTED, NOT RECEIVED                14\n",
       "                           SOFTWARE ENGINEER                             5\n",
       "                           ELECTRONIC TECHNICIAN                         3\n",
       "                           FARMER                                        2\n",
       "Kasich, John R.            RETIRED                                     725\n",
       "                           ATTORNEY                                    131\n",
       "                           CEO                                          77\n",
       "                           HOMEMAKER                                    67\n",
       "                           PRESIDENT                                    65\n",
       "Lessig, Lawrence           SOFTWARE ENGINEER                            56\n",
       "                           DEVELOPER                                    42\n",
       "                           RETIRED                                      26\n",
       "                           ATTORNEY                                     20\n",
       "                           ENGINEER                                     18\n",
       "O'Malley, Martin Joseph    RETIRED                                      52\n",
       "                           ATTORNEY                                     26\n",
       "                           LECTURER                                     23\n",
       "                           CONSULTANT                                   20\n",
       "                           PHYSICIAN                                    15\n",
       "Pataki, George E.          ATTORNEY                                      3\n",
       "                           PRESIDENT                                     2\n",
       "                           HOMEMAKER                                     2\n",
       "                           INFORMATION REQUESTED                         2\n",
       "                           ENTREPRENEUR                                  1\n",
       "Paul, Rand                 RETIRED                                     874\n",
       "                           ENGINEER                                    335\n",
       "                           INFORMATION REQUESTED                       193\n",
       "                           CONSULTANT                                   95\n",
       "                           HOMEMAKER                                    82\n",
       "Perry, James R. (Rick)     PRESIDENT                                    11\n",
       "                           HOMEMAKER                                    11\n",
       "                           ATTORNEY                                      7\n",
       "                           EXECUTIVE                                     7\n",
       "                           OWNER                                         5\n",
       "Rubio, Marco               RETIRED                                    5579\n",
       "                           HOMEMAKER                                   627\n",
       "                           INFORMATION REQUESTED PER BEST EFFORTS      491\n",
       "                           ATTORNEY                                    346\n",
       "                           PRESIDENT                                   197\n",
       "Sanders, Bernard           NOT EMPLOYED                              96371\n",
       "                           RETIRED                                   15048\n",
       "                           TEACHER                                   10167\n",
       "                           SOFTWARE ENGINEER                          7861\n",
       "                           ENGINEER                                   7094\n",
       "Santorum, Richard J.       RETIRED                                      44\n",
       "                           ENGINEER                                      5\n",
       "                           MACHINIST                                     4\n",
       "                           INFORMATION REQUESTED                         3\n",
       "                           GENERAL CONTRACTOR                            3\n",
       "Stein, Jill                RETIRED                                      32\n",
       "                           RESEARCHER                                   25\n",
       "                           WRITER                                       20\n",
       "                           FORMAL FINANCIAL SERVICES EMPLOYEE            9\n",
       "                           SOFTWARE ENGINEER                             9\n",
       "Trump, Donald J.           RETIRED                                     849\n",
       "                           INFORMATION REQUESTED                        70\n",
       "                           CEO                                          57\n",
       "                           OWNER                                        51\n",
       "                           PRESIDENT                                    35\n",
       "Walker, Scott              RETIRED                                     232\n",
       "                           INFORMATION REQUESTED                        70\n",
       "                           PRESIDENT                                    37\n",
       "                           HOMEMAKER                                    34\n",
       "                           ATTORNEY                                     31\n",
       "Webb, James Henry Jr.      RETIRED                                      14\n",
       "                           ATTORNEY                                      8\n",
       "                           DEPUTY DISTRICT ATTORNEY                      7\n",
       "                           NOT EMPLOYED                                  5\n",
       "                           MATH EDUCATOR                                 5\n",
       "Name: contbr_occupation, dtype: int64"
      ]
     },
     "execution_count": 445,
     "metadata": {},
     "output_type": "execute_result"
    }
   ],
   "source": [
    "contrib.groupby(contrib.cand_nm).apply(get_donors)"
   ]
  },
  {
   "cell_type": "markdown",
   "metadata": {
    "collapsed": true,
    "deletable": false,
    "nbgrader": {
     "checksum": "14c2855e3d59f0da6b1afd5cf0da2da8",
     "grade": true,
     "grade_id": "cell-fd840cdd19d2bd2a",
     "locked": false,
     "points": 0,
     "schema_version": 1,
     "solution": true
    }
   },
   "source": [
    "**3e. Comment on your data insights & findings in a short paragraph.**"
   ]
  },
  {
   "cell_type": "markdown",
   "metadata": {
    "deletable": false,
    "nbgrader": {
     "checksum": "43ce3d15cee7ab73f53fd8f054c9826c",
     "grade": true,
     "grade_id": "cell-dce8d3107c1463ca",
     "locked": false,
     "points": 0,
     "schema_version": 1,
     "solution": true
    }
   },
   "source": [
    "Very interesting! Even through his contributions data, Bernie Sanders really appears as the \"people's\" candidate with an overwhelming majority of donations from the unemployed. It seems reflective of his ethos and campaign messaging, focused on economic fairness for all.  To see how many contributions come from retired donors was really surprising - I did not expect this."
   ]
  },
  {
   "cell_type": "markdown",
   "metadata": {},
   "source": [
    "**3f. Think about your findings in section 3 vs. your findings in section 2 of this assignment.**\n",
    "\n",
    "Do you have any new data insights into the results you saw in section 2 now that you see the top occupations for each candidate?"
   ]
  },
  {
   "cell_type": "markdown",
   "metadata": {
    "deletable": false,
    "nbgrader": {
     "checksum": "a5f4e6df0f32e24c492a9589ec87fef6",
     "grade": true,
     "grade_id": "cell-9e3f68b21dac8e10",
     "locked": false,
     "points": 0,
     "schema_version": 1,
     "solution": true
    }
   },
   "source": [
    "The average donation findings make a lot of sense based on the top occupations of donors. Bernie Sanders had the second-most donations in CA but the overwhelming majority of his donors were unemployed - I'd expect it to be much more likely that donations from unemployed donors are smaller than those who are employed -or- retired with some form of income. It's still surprising to me that the majority of donations overall come from retired donors although it does make sense that they would have more time to be more politically engaged or more likely to be solicited for donations as they may spend more time at home."
   ]
  },
  {
   "cell_type": "markdown",
   "metadata": {},
   "source": [
    "\n",
    "## 4. Plotting Data (20 points)\n",
    "\n",
    "There is an important element that we have not yet explored in this dataset - time."
   ]
  },
  {
   "cell_type": "markdown",
   "metadata": {},
   "source": [
    "**4a. Present a single line chart with the following elements.**\n",
    "\n",
    "- Show the date on the x-axis\n",
    "- Show the contribution amount on the y-axis\n",
    "- Include a title\n",
    "- Include axis labels"
   ]
  },
  {
   "cell_type": "code",
   "execution_count": 446,
   "metadata": {
    "deletable": false,
    "nbgrader": {
     "checksum": "4f1a9e7ee0ded9d2b5af5777cb85e505",
     "grade": true,
     "grade_id": "cell-c14fbed9d72d54e3",
     "locked": false,
     "points": 0,
     "schema_version": 1,
     "solution": true
    }
   },
   "outputs": [
    {
     "data": {
      "image/png": "[encoded data removed]",
      "text/plain": [
       "<Figure size 432x288 with 1 Axes>"
      ]
     },
     "metadata": {
      "needs_background": "light"
     },
     "output_type": "display_data"
    }
   ],
   "source": [
    "plt.plot(contrib.contb_receipt_dt, contrib.contb_receipt_amt)\n",
    "plt.xlabel(\"Date\")\n",
    "plt.ylabel(\"USD ($)\")\n",
    "plt.title(\"Contributions Over Time\")\n",
    "plt.show()"
   ]
  },
  {
   "cell_type": "markdown",
   "metadata": {},
   "source": [
    "**4b. Make a better time-series line chart**\n",
    "\n",
    "This chart is messy and it is hard to gain insights from it.  Improve the chart from 4a so that your new chart shows a specific insight. In the spot provided, write the insight(s) that can be gained from this new time-series line chart."
   ]
  },
  {
   "cell_type": "code",
   "execution_count": 452,
   "metadata": {
    "deletable": false,
    "nbgrader": {
     "checksum": "6dc1481a003cdd752c5edfa9ac400879",
     "grade": true,
     "grade_id": "cell-f7a01ce9c5b10ac7",
     "locked": false,
     "points": 0,
     "schema_version": 1,
     "solution": true
    }
   },
   "outputs": [
    {
     "name": "stderr",
     "output_type": "stream",
     "text": [
      "<ipython-input-452-81e020385088>:20: UserWarning: FixedFormatter should only be used together with FixedLocator\n",
      "  plt.gca().set_yticklabels(['{:,.0f}'.format(x) for x in current_ticks])\n"
     ]
    },
    {
     "data": {
      "image/png": "[encoded data removed]",
      "text/plain": [
       "<Figure size 576x360 with 1 Axes>"
      ]
     },
     "metadata": {
      "needs_background": "light"
     },
     "output_type": "display_data"
    }
   ],
   "source": [
    "# 4b YOUR CODE HERE\n",
    "\n",
    "cdates = contrib.contb_receipt_amt.groupby(contrib.contb_receipt_dt)\n",
    "cdates = cdates.sum().sort_values(ascending=False)\n",
    "\n",
    "cdates = cdates.to_frame(\"cdates\")\n",
    "cdates = cdates.reset_index()\n",
    "\n",
    "cdates = cdates.rename(columns={\"contb_receipt_dt\":\"Date\",\"cdates\":\"Contribution_Total\"})\n",
    "cdates = cdates.sort_values(by=\"Date\")\n",
    "\n",
    "\n",
    "#plt.ylim(-20000, 1000000)\n",
    "\n",
    "plt.plot(cdates.Date, cdates.Contribution_Total, color=\"green\")\n",
    "plt.xlabel(\"Date\")\n",
    "plt.ylabel(\"USD ($)\")\n",
    "plt.title(\"Campaign Contributions (2016 Presidential Primaries)\")\n",
    "current_ticks=plt.gca().get_yticks()\n",
    "plt.gca().set_yticklabels(['{:,.0f}'.format(x) for x in current_ticks])\n",
    "plt.rcParams[\"figure.figsize\"] = (8,5)\n",
    "plt.show()\n"
   ]
  },
  {
   "cell_type": "markdown",
   "metadata": {
    "deletable": false,
    "nbgrader": {
     "checksum": "010f5de5f6af4c7f830d1cf7a81bbc0f",
     "grade": true,
     "grade_id": "cell-5617179133b06d0c",
     "locked": false,
     "points": 0,
     "schema_version": 1,
     "solution": true
    }
   },
   "source": [
    "This chart is a huge improvement on the chart in 4A and the histogram of the same data above. It shows all contributions to all candidates leading up to the primary elections in 2016. It's easier to see from this graph that there are spike in donations along the timeline  - I assume this may be tied to certain events/milestones along the campaign trail such as debates, fundraising deadlines, or major announcements. It seems donations really picked up early on in the year, likely as the election news was heading up , and began to dip as the election drew nearer. The final jump in donations in mid 2016 appears to be a cut off date for election contributions.  "
   ]
  },
  {
   "cell_type": "markdown",
   "metadata": {},
   "source": [
    "## If you have feedback for this homework, please submit it using the link below:\n",
    "\n",
    "http://goo.gl/forms/74yCiQTf6k"
   ]
  }
 ],
 "metadata": {
  "kernelspec": {
   "display_name": "Python 3",
   "language": "python",
   "name": "python3"
  },
  "language_info": {
   "codemirror_mode": {
    "name": "ipython",
    "version": 3
   },
   "file_extension": ".py",
   "mimetype": "text/x-python",
   "name": "python",
   "nbconvert_exporter": "python",
   "pygments_lexer": "ipython3",
   "version": "3.8.8"
  }
 },
 "nbformat": 4,
 "nbformat_minor": 2
}
