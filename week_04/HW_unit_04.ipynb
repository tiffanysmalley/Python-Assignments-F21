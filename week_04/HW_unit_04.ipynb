{
 "cells": [
  {
   "cell_type": "markdown",
   "metadata": {},
   "source": [
    "## Week 4 Assignment - W200 Introduction to Data Science Programming, UC Berkeley MIDS"
   ]
  },
  {
   "cell_type": "markdown",
   "metadata": {},
   "source": [
    "Write code in this jupyter Notebook to solve the following problems. Please upload this **Notebook** with your solutions to your GitHub repository in your SUBMISSIONS/week_04 folder by 11:59PM PST the night before class."
   ]
  },
  {
   "cell_type": "markdown",
   "metadata": {},
   "source": [
    "## Objectives:\n",
    "\n",
    "- More practice with for & while loops, if statements and gathering user inputs\n",
    "- Demonstrate use of Python list comprehensions.\n",
    "- Understand the pseudo-coding and algorithm complexities"
   ]
  },
  {
   "cell_type": "markdown",
   "metadata": {},
   "source": [
    "## General Guidelines:\n",
    "\n",
    "- In each code block, do NOT delete the # Q4-x-x comment at the top of a cell (it is needed for the auto-grading!)\n",
    "- Limited user input validation and error checking is encouraged on this assignment. Each question below will indicate the type of input that you can expect. (for example, if the question states the input will be an integer, you can expect the user to input an integer and do not need to check to ensure it is an integer versus a float or a string)\n",
    "- Adding comments in your code is strongly suggested but won't be graded.\n",
    "- The examples given are samples of how we will test/grade your code. Please ensure your code outputs the same information.\n",
    "- If you are stuck on a problem or do not understand a question - please come to office hours or ask questions to the class Google group (please don't post your code though). If it is a coding problem send a private email to all of the instructors at: mids-python-instructors@googlegroups.com\n",
    "- You may use any libraries from the Python Standard Library for this assignment: https://docs.python.org/3/library/\n",
    "- We also have a tutor if you would like a 1 on 1 session!"
   ]
  },
  {
   "cell_type": "markdown",
   "metadata": {},
   "source": [
    "## Grading Rubric\n",
    "\n",
    "General grading rubric guidelines / philosophy:\n",
    "\n",
    "- The total possible points will be shown for each question\n",
    "- Please read each question carefully to understand the requirements\n",
    "- Points for each question are rewarded based on how well your code fulfills those requirements\n",
    "- All of the problems have an example given to help show what is needed and how to format the answer\n",
    "- For the rest of the questions, its up to you to determine the requirements and code them!\n",
    "\n",
    "More on grading:\n",
    "- If the question is blank / not attempted, no points will be given\n",
    "- Most points are given for code that runs (does not crash) and fulfills the requirements\n",
    "- Minor points are given for formatting the answer in accordance with the question"
   ]
  },
  {
   "cell_type": "markdown",
   "metadata": {},
   "source": [
    "## 4-1. Loops\n",
    "### 4-1-1. For Loops (10 points)\n",
    "\n",
    "Write a script that prompts the user for two words (two, one-word strings). Print all the **unique** letters that are common to both words, in alphabetical order, using **for** loops in your solution. A shown below case does not matter.\n",
    "\n",
    "For example:\n",
    "```\n",
    "Enter one word: Home\n",
    "Enter another word: Meter\n",
    "\n",
    "Letters in common: em\n",
    "```"
   ]
  },
  {
   "cell_type": "code",
   "execution_count": null,
   "metadata": {},
   "outputs": [],
   "source": [
    "# Q4-1-1 Grading Tag:\n",
    "debug = 0\n",
    "import string    \n",
    "\n",
    "#gather two inputs with input validation\n",
    "word1 = input(\"Enter one word: \")\n",
    "word2 = input(\"Enter another word: \")\n",
    "\n",
    "#use for loops to make two lists of the unique letters in each word\n",
    "word1Unique = [a for a in string.ascii_lowercase if a in word1]\n",
    "word2Unique = [a for a in string.ascii_lowercase if a in word2]\n",
    "\n",
    "if debug:\n",
    "    print(word1Unique)\n",
    "    print(word2Unique)\n",
    "\n",
    "#make a list of only shared letters\n",
    "sharedLetters = [b for b in word1Unique if b in word2Unique]\n",
    "\n",
    "if debug:\n",
    "    print(sharedLetters)\n",
    "\n",
    "#alphabetize the list\n",
    "sharedLetters.sort()\n",
    "\n",
    "print(\"Letters in common: \", *sharedLetters, sep=\"\")"
   ]
  },
  {
   "cell_type": "markdown",
   "metadata": {},
   "source": [
    "### 4-1-2. A Game of Chess (20 points: 5 points Pseudo-code / 15 points Chess)\n",
    "You place a pawn at the top left corner of an n-by-n chess board, labeled (0,0).  For each move, you have a choice: move the pawn down a single space, or move the pawn down one space and right one space.  That is, if the pawn is at position (i,j), you can move the pawn to (i+1,j) or (i+1, j+1).\n",
    "\n",
    "Ask the user for the size of a chessboard, n (**integer**).  Find the number of different paths **starting from (0,0)** that the pawn could take to reach each position on the chess board.  For example, there are two different paths the pawn can take to reach (2,1). Look at the diagrams below to convince yourself of this. You can see the four paths that you can take by move 2.\n",
    "```\n",
    "  Start -> Move 1 -> Move 2\n",
    "\n",
    "  (0,0) ->  (1,0) -> (2,1)\n",
    "  \n",
    "  (0,0) ->  (1,0) -> (2,0)\n",
    "  \n",
    "  (0,0) ->  (1,1) -> (2,1)\n",
    "  \n",
    "  (0,0) ->  (1,1) -> (2,2)\n",
    "```\n",
    "\n",
    "Print the board with the number of ways to reach each square labeled as shown below.\n",
    "\n",
    "For example:\n",
    "```\n",
    "Enter a board size: 4\n",
    "\n",
    "1 0 0 0\n",
    "1 1 0 0\n",
    "1 2 1 0\n",
    "1 3 3 1\n",
    "```\n",
    "\n",
    "#### Please create pseudocode for this problem in the first cell then implement your solution in the second cell. \n",
    "- If you need help creating pseudocode, read this article: https://www.geeksforgeeks.org/how-to-write-a-pseudo-code/ (code is java but principles are the same)"
   ]
  },
  {
   "cell_type": "code",
   "execution_count": null,
   "metadata": {},
   "outputs": [],
   "source": [
    "# Pseudocode Here\n",
    "\n",
    "# define pathcounter function (x, y coordinates taken as args)\n",
    "# if the y coordinate is 1\n",
    "    # return 1\n",
    "\n",
    "# else if x = y coordinate\n",
    "    # return 1\n",
    "    \n",
    "# else \n",
    "    # return an int cast sum of recursive calls to pathcounter with x-1,y-1 and x-1,y coordinates\n",
    "    \n",
    "\n",
    "#start of main function:\n",
    "\n",
    "# collect user number input (n)\n",
    "\n",
    "# create 2d array\n",
    "# assign 0 values to every item in the array with numpy zeros() by passing in 2d array\n",
    "\n",
    "#for each i from 1 to 1+number input\n",
    "    #for each j from 1 to 1+number input\n",
    "        #assign the result of a call to pathCounter with i and j as arguments to current cell\n",
    "        \n",
    "#for each i from 0 to number input\n",
    "    #for each j from 0 to number input\n",
    "        #print the int cast value at that index, separating the following one by a space\n",
    "    #add a new line every new row/outer loop\n"
   ]
  },
  {
   "cell_type": "code",
   "execution_count": null,
   "metadata": {},
   "outputs": [],
   "source": [
    "# Q4-1-2 Grading Tag:\n",
    "debug = 0\n",
    "import numpy as np \n",
    "\n",
    "#function to count paths\n",
    "def pathCounter5000(x,y):\n",
    "    \"\"\"Takes in two coordinates as arguments, returns the number of \n",
    "    paths to that coordinate from 0,0 if only moving down and down + right\"\"\"\n",
    "    #if within the first column, return 1 (we can only get to each of these 1 way)\n",
    "    if(y==1):\n",
    "        return 1\n",
    "    #every nxn coordinate is a 1 as well\n",
    "    elif(y == x):\n",
    "        return 1\n",
    "    \n",
    "    #else we have to calculate the next triangle value for this square\n",
    "    else:\n",
    "        return int(pathCounter5000(x-1,y-1) + pathCounter5000(x-1,y))\n",
    "        \n",
    "# Implement Here\n",
    "n = int(input(\"Enter a board size: \"))\n",
    "\n",
    "#create an nxn array of 0s\n",
    "board = (n,n)\n",
    "chessBoard = np.zeros(board)\n",
    "\n",
    "if debug:\n",
    "    print(chessBoard)\n",
    "\n",
    "#assign numbers to the empty matrix using call to pathCounter5000\n",
    "for x in range(1,n+1):\n",
    "    for y in range(1,x+1):\n",
    "        chessBoard[x-1][y-1]=pathCounter5000(x, y)\n",
    "\n",
    "#print array in format requested\n",
    "for x in range(0,n):\n",
    "    for y in range(0,n):\n",
    "        print(int(chessBoard[x][y]), end=\" \")\n",
    "    print(\"\")\n",
    "        \n",
    "    "
   ]
  },
  {
   "cell_type": "markdown",
   "metadata": {},
   "source": [
    "## 4-2. Algorithms\n",
    "\n",
    "### 4-2-1. Fixing the Bisection Search (15 points)\n",
    "\n",
    "The bisection code below finds the square root of a number. Try inputting 16 into the code to confirm it works. Next, try inputting 0.25 into the bisection search algorithm below and confirm that it doesn't work. Then correct the algorithm so that it works for all positive numbers, including decimals such as 0.25."
   ]
  },
  {
   "cell_type": "code",
   "execution_count": null,
   "metadata": {},
   "outputs": [],
   "source": [
    "# Q4-2-1 Grading Tag:\n",
    "## Please fix the code in this cell (that is don't make a new cell)\n",
    "## Bisection Search to Find a Square Root\n",
    "\n",
    "x = float(input(\"enter a number:\"))\n",
    "epsilon = 0.00001\n",
    "num_guesses = 0\n",
    "low = 0.0\n",
    "high = x\n",
    "\n",
    "\"\"\"adding in some logic to handle inputs greater than 1 and less than 1 separately\n",
    "if less than 1, the division by 2 won't work because anything less than 1 will have a root\n",
    "greater than itself\"\"\"\n",
    "if x > 1:\n",
    "    ans = (high + low)/2.0\n",
    "else: \n",
    "    ans = 1\n",
    "    \n",
    "while high - low >= 2 * epsilon:\n",
    "    print(\"low =\",low,\"high =\", high)\n",
    "    num_guesses += 1\n",
    "    if ans ** 2 < x:\n",
    "        low = ans\n",
    "    else:\n",
    "        high = ans\n",
    "    ans = (high + low)/2.0\n",
    "print('number of guesses =', num_guesses)\n",
    "print(ans, 'is close to square root of', x)"
   ]
  },
  {
   "cell_type": "markdown",
   "metadata": {},
   "source": [
    "### 4-2-2. Bisection Search vs. Brute Force (5 points)\n",
    "\n",
    "Please answer the following questions as a short answer discussion not more than 1-2 paragraphs.  These methods are described in the async video lectures 4.5, 4.6 & 4.7.\n",
    "\n",
    "In your own words, why does the bisection search algorithm for finding square roots work faster on large numbers than the brute force algorithm? Write your answer below."
   ]
  },
  {
   "cell_type": "markdown",
   "metadata": {},
   "source": [
    "**The brute force algorithm can end up running up to 1/2 the input value's number of times before it finds the right answer - it simply trying everything in it's wake until it finds the right answers. The bisection search works smarter, not harder: it elects to iteratively decrease the potential range for the answer, more quickly zeroing in on the precise answer and avoiding the evaluation of many incorrect options.**"
   ]
  },
  {
   "cell_type": "markdown",
   "metadata": {},
   "source": [
    "### 4-2-3. Bisection Search vs Newton's Method (5 points)\n",
    "\n",
    "In your own words, why does Newton's method for finding square roots outperform both the brute force and the bisection search algorithms? Write your answer below."
   ]
  },
  {
   "cell_type": "markdown",
   "metadata": {},
   "source": [
    "**Newton's Method takes advantage of the fact that the function that models the square of any number x is usually a smooth curve by which we can iteratively (but efficiently) move closer to find the square root of any particular value on that line by drawing a straight line to the x axis, evaluating it, and repeating until we have reached the targeted value to a certain level of precision. In practice, this method outperforms the bruth force and bisection search algorithms because it makes larger, more efficient jumps each iteration rather than, in comparison, arbitrarily cutting our range of guess in half continually or checking every single number within a certain range.**"
   ]
  },
  {
   "cell_type": "markdown",
   "metadata": {},
   "source": [
    "### 4-2-4. Interpreting Instructions for an Algorithm (20 points)\n",
    "\n",
    "Implement this digit-by-digit algorithm to find the square root of x to a precision of epsilon.\n",
    "  1. Begin with a step size of 1 and guess of zero.\n",
    "  2. Increase the guess by the step size as long as doing so would not cause the guess^2 to exceed x. Repeat this step (step 2) until the next repetition will cause guess^2 to exceed x.\n",
    "  3. If the step size is greater than or equal to epsilon, then divide the step size by 10 and go back to step 2.\n",
    "\n",
    "Notice that once a digit has been found, it is not changed again.  Try using your code to find the square root of 10 to an epsilon of 10 decimal places.  This algorithm should not take over 30 seconds to run (if it does you have coded something incorrectly!). \n",
    "\n",
    "If you are getting an answer that is off by epsilon (for example 3.1622776602 instead of 3.1622776601), this might be caused by the floating point error. You can read more about that here: https://docs.python.org/3/tutorial/floatingpoint.html. To fix this problem, you can use the Decimal library here: https://docs.python.org/3/library/decimal.html#module-decimal\n",
    "\n",
    "Hint: It might be helpful to write out by hand an easier example like '4' to understand how the algorithm works.\n",
    "\n",
    "Example output:\n",
    "\n",
    "```\n",
    "Enter a number to find the square root: 10\n",
    "The square root of 10 is 3.1622776601.\n",
    "```"
   ]
  },
  {
   "cell_type": "code",
   "execution_count": null,
   "metadata": {},
   "outputs": [],
   "source": [
    "# Q4-2-4 Grading Tag:\n",
    "import decimal \n",
    "\n",
    "x = float(input(\"Enter a number to find the square root: \"))\n",
    "\n",
    "epsilon = 0.0001\n",
    "noGuess=0\n",
    "\n",
    "guess = 0\n",
    "step = 1\n",
    "\n",
    "while((guess**2)<x):\n",
    "    guess = guess + step\n",
    "    \n",
    "    if(step>=epsilon):\n",
    "        step=step/10\n",
    "\n",
    "print(\"The square root of \", x, \" is \", guess)\n"
   ]
  },
  {
   "cell_type": "markdown",
   "metadata": {},
   "source": [
    "## 4-3. List Comprehensions (25 points - 5 points each)\n",
    "\n",
    "Each list comprehension below can be done in just one line/statement and needs to output one list. \n",
    "\n",
    "A note on displaying lists in Python: sometimes Python displays lists like `[1,2,3]` and other times lists display as \n",
    "```\n",
    "[1,\n",
    " 2,\n",
    " 3]\n",
    "```\n",
    "Either way these lists contain the same values and information (and are the same answer for this problem)."
   ]
  },
  {
   "cell_type": "markdown",
   "metadata": {},
   "source": [
    "**4-3-1. Use a single comprehension** to make a list of the square numbers below 100 that give a remainder of 1 when divided by 3.\n",
    "\n",
    "Example output (these are the first two elements of the list - obviously not the full list!):\n",
    "```\n",
    "[1, 4, ... ]\n",
    "```"
   ]
  },
  {
   "cell_type": "code",
   "execution_count": null,
   "metadata": {},
   "outputs": [],
   "source": [
    "# Q4-3-1 Grading Tag:\n",
    "\n",
    "output =[i*i for i in range(100) if (i*i)<100 if (i*i)%3==1]\n",
    "print(output)"
   ]
  },
  {
   "cell_type": "markdown",
   "metadata": {},
   "source": [
    "**4-3-2.** A string is defined in the code snippet below. **Use a single comprehension** to make a list of the first letter of each word in the snippet.\n",
    "\n",
    "Example output (these are the first two elements of the list - obviously not the full list!):\n",
    "```\n",
    "['I', 'l', ... ]\n",
    "```"
   ]
  },
  {
   "cell_type": "code",
   "execution_count": null,
   "metadata": {},
   "outputs": [],
   "source": [
    "# Q4-3-2 Grading Tag:\n",
    "text = \"I live my life a quarter mile at a time. \\\n",
    "Nothing else matters: not the mortgage, not the store, \\\n",
    "not my team and all their bullshit. \\\n",
    "For those ten seconds or less, I’m free.\"\n",
    "# the slashes just mean that the string continues onto the next line\n",
    "# if you print the text, it will make no difference\n",
    "\n",
    "output=[char[0] for char in text.split() if char!=' ' if char!='.' if char!=\",\"]\n",
    "print(output)"
   ]
  },
  {
   "cell_type": "markdown",
   "metadata": {},
   "source": [
    "**4-3-3.** A Pythagorean triple is a set (x,y,z), with positive integers x ≤ y ≤ z such that $x^2+y^2=z^2$. **Use a single comprehension** to make a list of all Pythagorean triples such that all 3 numbers are below 25.\n",
    "\n",
    "Example output (these are the first two elements of the list - obviously not the full list!):\n",
    "```\n",
    "[(3, 4, 5), (5, 12, 13), ... ]\n",
    "```"
   ]
  },
  {
   "cell_type": "code",
   "execution_count": null,
   "metadata": {},
   "outputs": [],
   "source": [
    "# Q4-3-3 Grading Tag:\n",
    "output=[(a,b,c) for a in range(1,26) for b in range(1,26) for c in range(1,26) if (a*a)+(b*b)==(c*c) if a<=b<=c]\n",
    "print(output)"
   ]
  },
  {
   "cell_type": "markdown",
   "metadata": {},
   "source": [
    "**4-3-4.** Given a word, provided below, **use a single comprehension** to make a list of all strings that can be formed by deleting exactly one character from the word.\n",
    "\n",
    "Required output:\n",
    "```\n",
    "['elcomed', 'Wlcomed', 'Wecomed', 'Welomed', 'Welcmed', 'Welcoed', 'Welcomd', 'Welcome']\n",
    "```"
   ]
  },
  {
   "cell_type": "code",
   "execution_count": null,
   "metadata": {},
   "outputs": [],
   "source": [
    "# Q4-3-4 Grading Tag:\n",
    "word = \"Welcomed\"\n",
    "\n",
    "output= [word[:i]+word[i+1:] for i in range(0,len(word))]\n",
    "\n",
    "print(output)"
   ]
  },
  {
   "cell_type": "markdown",
   "metadata": {},
   "source": [
    "**4-3-5.** Given a word, provided below, **use a single comprehension** to make a list of all strings that can be formed by replacing exactly one vowel in the word with a different vowel (a vowel is a,e,i,o,u).\n",
    "\n",
    "Required output:\n",
    "```\n",
    "['Baoted', 'Beoted', 'Bioted', 'Buoted', 'Boated', 'Boeted', 'Boited', 'Bouted', 'Bootad', 'Bootid', 'Bootod', 'Bootud']\n",
    "```"
   ]
  },
  {
   "cell_type": "code",
   "execution_count": null,
   "metadata": {},
   "outputs": [],
   "source": [
    "# Q4-3-5 Grading Tag:\n",
    "word = \"Booted\"\n",
    "\n",
    "output=[word[0:i]+word[i:i+1].replace(word[i],j)+word[i+1:] for i in range(0,len(word)) for j in [\"a\",\"e\",\"i\",\"o\",\"u\"] if word[i] in [\"a\",\"e\",\"i\",\"o\",\"u\"] if j!=word[i]]\n",
    "\n",
    "print(output)"
   ]
  },
  {
   "cell_type": "markdown",
   "metadata": {},
   "source": [
    "## If you have feedback for this homework, please submit it using the link below:\n",
    "\n",
    "http://goo.gl/forms/74yCiQTf6k"
   ]
  }
 ],
 "metadata": {
  "kernelspec": {
   "display_name": "Python 3",
   "language": "python",
   "name": "python3"
  },
  "language_info": {
   "codemirror_mode": {
    "name": "ipython",
    "version": 3
   },
   "file_extension": ".py",
   "mimetype": "text/x-python",
   "name": "python",
   "nbconvert_exporter": "python",
   "pygments_lexer": "ipython3",
   "version": "3.8.8"
  }
 },
 "nbformat": 4,
 "nbformat_minor": 1
}
